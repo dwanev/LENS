{
 "cells": [
  {
   "cell_type": "code",
   "execution_count": 1,
   "metadata": {},
   "outputs": [],
   "source": [
    "%load_ext autoreload\n",
    "%autoreload 2\n",
    "import warnings\n",
    "warnings.filterwarnings('ignore')\n",
    "import pandas as pd\n",
    "import numpy as np\n",
    "from matplotlib import pyplot as plt \n",
    "import seaborn as sns\n",
    "import itertools\n",
    "import sklearn\n",
    "import shap\n",
    "from sklearn.metrics import accuracy_score\n",
    "from sklearn.ensemble import ExtraTreesClassifier\n",
    "import sys; sys.path.insert(0, '../src/') \n",
    "import necsuf_tabular_text as nec_suf\n",
    "import cum_shp_plot\n",
    "import recourse_experiment\n",
    "from __future__ import print_function"
   ]
  },
  {
   "cell_type": "code",
   "execution_count": 2,
   "metadata": {},
   "outputs": [],
   "source": [
    "# dataset version taken from https://www.kaggle.com/kabure/german-credit-data-with-risk?select=german_credit_data.csv\n",
    "german_cred_df = pd.read_csv(\"../datasets/german_credit_data.csv\")"
   ]
  },
  {
   "cell_type": "code",
   "execution_count": 3,
   "metadata": {},
   "outputs": [],
   "source": [
    "# following standard pre-processing from https://www.kaggle.com/vigneshj6/german-credit-data-analysis-python\n",
    "german_cred_df['Saving accounts'] = german_cred_df['Saving accounts'].map({\"little\":0,\"moderate\":1,\"quite rich\":2 ,\"rich\":3});\n",
    "german_cred_df['Saving accounts'] = german_cred_df['Saving accounts'].fillna(german_cred_df['Saving accounts'].dropna().mean())\n",
    "\n",
    "german_cred_df['Checking account'] = german_cred_df['Checking account'].map({\"little\":0,\"moderate\":1,\"rich\":2 });\n",
    "german_cred_df['Checking account'] = german_cred_df['Checking account'].fillna(german_cred_df['Checking account'].dropna().mean())\n",
    "\n",
    "german_cred_df['Sex'] = german_cred_df['Sex'].map({\"male\":0,\"female\":1});\n",
    "\n",
    "german_cred_df['Housing'] = german_cred_df['Housing'].map({\"own\":0,\"free\":1,\"rent\":2});\n",
    "\n",
    "german_cred_df['Purpose'] = german_cred_df['Purpose'].map({'radio/TV':0, 'education':1, 'furniture/equipment':2, 'car':3, 'business':4,\n",
    "       'domestic appliances':5, 'repairs':6, 'vacation/others':7});\n",
    "\n",
    "german_cred_df['Risk'] = german_cred_df['Risk'].map({\"good\":1,\"bad\":0});\n",
    "german_cred_df.rename(columns={\"Risk\": \"outcome\", \"Saving accounts\": \"Savings\",\n",
    "                              \"Checking account\": \"Checking\", \"Credit amount\": \"Credit\"}, inplace=True)\n",
    "\n",
    "german_cred_df.drop(\"Unnamed: 0\", axis=1, inplace=True)"
   ]
  },
  {
   "cell_type": "markdown",
   "metadata": {},
   "source": [
    "### Problem intiailization"
   ]
  },
  {
   "cell_type": "code",
   "execution_count": 4,
   "metadata": {},
   "outputs": [
    {
     "data": {
      "text/html": [
       "<div>\n",
       "<style scoped>\n",
       "    .dataframe tbody tr th:only-of-type {\n",
       "        vertical-align: middle;\n",
       "    }\n",
       "\n",
       "    .dataframe tbody tr th {\n",
       "        vertical-align: top;\n",
       "    }\n",
       "\n",
       "    .dataframe thead th {\n",
       "        text-align: right;\n",
       "    }\n",
       "</style>\n",
       "<table border=\"1\" class=\"dataframe\">\n",
       "  <thead>\n",
       "    <tr style=\"text-align: right;\">\n",
       "      <th></th>\n",
       "      <th>Age</th>\n",
       "      <th>Sex</th>\n",
       "      <th>Job</th>\n",
       "      <th>Housing</th>\n",
       "      <th>Savings</th>\n",
       "      <th>Checking</th>\n",
       "      <th>Credit</th>\n",
       "      <th>Duration</th>\n",
       "      <th>Purpose</th>\n",
       "      <th>outcome</th>\n",
       "    </tr>\n",
       "  </thead>\n",
       "  <tbody>\n",
       "    <tr>\n",
       "      <th>998</th>\n",
       "      <td>23.0</td>\n",
       "      <td>0.0</td>\n",
       "      <td>2.0</td>\n",
       "      <td>1.0</td>\n",
       "      <td>0.0</td>\n",
       "      <td>0.0</td>\n",
       "      <td>1845.0</td>\n",
       "      <td>45.0</td>\n",
       "      <td>0.0</td>\n",
       "      <td>0.0</td>\n",
       "    </tr>\n",
       "  </tbody>\n",
       "</table>\n",
       "</div>"
      ],
      "text/plain": [
       "      Age  Sex  Job  Housing  Savings  Checking  Credit  Duration  Purpose  \\\n",
       "998  23.0  0.0  2.0      1.0      0.0       0.0  1845.0      45.0      0.0   \n",
       "\n",
       "     outcome  \n",
       "998      0.0  "
      ]
     },
     "execution_count": 4,
     "metadata": {},
     "output_type": "execute_result"
    }
   ],
   "source": [
    "inp = pd.DataFrame(german_cred_df.iloc[998]).T\n",
    "inp"
   ]
  },
  {
   "cell_type": "code",
   "execution_count": 5,
   "metadata": {},
   "outputs": [
    {
     "data": {
      "text/plain": [
       "0.7"
      ]
     },
     "execution_count": 5,
     "metadata": {},
     "output_type": "execute_result"
    }
   ],
   "source": [
    "### ratio positive labels in dataset?\n",
    "np.sum(german_cred_df.outcome)/len(german_cred_df)"
   ]
  },
  {
   "cell_type": "code",
   "execution_count": 6,
   "metadata": {},
   "outputs": [
    {
     "data": {
      "text/plain": [
       "array([0])"
      ]
     },
     "execution_count": 6,
     "metadata": {},
     "output_type": "execute_result"
    }
   ],
   "source": [
    "#### Create F model\n",
    "X,y = np.array(german_cred_df.iloc[:, :-1]), np.array(german_cred_df.iloc[:, -1:]).ravel()\n",
    "\n",
    "X_train, X_test, y_train, y_test = \\\n",
    "    sklearn.model_selection.train_test_split(X, y, test_size=.2, random_state=42)\n",
    "\n",
    "clf = ExtraTreesClassifier(random_state=0, max_depth=15)\n",
    "clf.fit(X_train, y_train)\n",
    "# save F(inp) for later\n",
    "f_inp = clf.predict(np.array(inp.iloc[:, :-1]))\n",
    "f_inp"
   ]
  },
  {
   "cell_type": "code",
   "execution_count": 7,
   "metadata": {},
   "outputs": [],
   "source": [
    "german_cred_df['Model_pred'] = clf.predict(german_cred_df.iloc[:, :-1].values)"
   ]
  },
  {
   "cell_type": "code",
   "execution_count": 8,
   "metadata": {},
   "outputs": [
    {
     "data": {
      "text/plain": [
       "0.71"
      ]
     },
     "execution_count": 8,
     "metadata": {},
     "output_type": "execute_result"
    }
   ],
   "source": [
    "accuracy_score(y_test, clf.predict(X_test))"
   ]
  },
  {
   "cell_type": "markdown",
   "metadata": {},
   "source": [
    "### Causal Model Fitting"
   ]
  },
  {
   "cell_type": "code",
   "execution_count": 9,
   "metadata": {},
   "outputs": [],
   "source": [
    "SCM_models = nec_suf.fit_scm(german_cred_df)"
   ]
  },
  {
   "cell_type": "markdown",
   "metadata": {},
   "source": [
    "D with everyone from opposite class, negative outcome, causal approach"
   ]
  },
  {
   "cell_type": "code",
   "execution_count": 12,
   "metadata": {},
   "outputs": [],
   "source": [
    "num_features = len(inp.columns[:-1])\n",
    "# Notice this time we use the causal_SCM argument, and pass in the SCM we fitted above\n",
    "_, CF_i2r_causal, refs1_causal = \\\n",
    "    nec_suf.suff_nec_pipeline((german_cred_df.outcome != inp.outcome.item()), inp, clf, german_cred_df, \n",
    "                              num_features, causal_SCM=SCM_models, n_sample=100, \n",
    "                              col_con=[0,6,7], col_cat=[1,2,3,4,5,8])"
   ]
  },
  {
   "cell_type": "markdown",
   "metadata": {},
   "source": [
    "D with everyone from opposite class, non-causal approach"
   ]
  },
  {
   "cell_type": "code",
   "execution_count": 13,
   "metadata": {},
   "outputs": [],
   "source": [
    "_, CF_i2r, refs = \\\n",
    "    nec_suf.suff_nec_pipeline((german_cred_df.outcome != inp.outcome.item()), inp, clf, german_cred_df, num_features, n_sample=100,\n",
    "                              col_con=[0,6,7], col_cat=[1,2,3,4,5,8])"
   ]
  },
  {
   "cell_type": "markdown",
   "metadata": {},
   "source": [
    "Comparison of recourse options"
   ]
  },
  {
   "cell_type": "code",
   "execution_count": 14,
   "metadata": {},
   "outputs": [
    {
     "data": {
      "text/html": [
       "<div>\n",
       "<style scoped>\n",
       "    .dataframe tbody tr th:only-of-type {\n",
       "        vertical-align: middle;\n",
       "    }\n",
       "\n",
       "    .dataframe tbody tr th {\n",
       "        vertical-align: top;\n",
       "    }\n",
       "\n",
       "    .dataframe thead th {\n",
       "        text-align: right;\n",
       "    }\n",
       "</style>\n",
       "<table border=\"1\" class=\"dataframe\">\n",
       "  <thead>\n",
       "    <tr style=\"text-align: right;\">\n",
       "      <th></th>\n",
       "      <th>index</th>\n",
       "      <th>degree</th>\n",
       "      <th>string</th>\n",
       "      <th>cardinality</th>\n",
       "      <th>cost</th>\n",
       "    </tr>\n",
       "  </thead>\n",
       "  <tbody>\n",
       "    <tr>\n",
       "      <th>0</th>\n",
       "      <td>[0]</td>\n",
       "      <td>0.88</td>\n",
       "      <td>Age 24.0</td>\n",
       "      <td>1</td>\n",
       "      <td>0.076923</td>\n",
       "    </tr>\n",
       "    <tr>\n",
       "      <th>1</th>\n",
       "      <td>[1]</td>\n",
       "      <td>0.19</td>\n",
       "      <td>Sex 1.0</td>\n",
       "      <td>1</td>\n",
       "      <td>1.000000</td>\n",
       "    </tr>\n",
       "    <tr>\n",
       "      <th>2</th>\n",
       "      <td>[2]</td>\n",
       "      <td>0.37</td>\n",
       "      <td>Job 1.0</td>\n",
       "      <td>1</td>\n",
       "      <td>1.000000</td>\n",
       "    </tr>\n",
       "    <tr>\n",
       "      <th>3</th>\n",
       "      <td>[3]</td>\n",
       "      <td>0.76</td>\n",
       "      <td>Housing 2.0</td>\n",
       "      <td>1</td>\n",
       "      <td>1.000000</td>\n",
       "    </tr>\n",
       "    <tr>\n",
       "      <th>4</th>\n",
       "      <td>[4]</td>\n",
       "      <td>0.35</td>\n",
       "      <td>Savings 0.456548</td>\n",
       "      <td>1</td>\n",
       "      <td>1.000000</td>\n",
       "    </tr>\n",
       "  </tbody>\n",
       "</table>\n",
       "</div>"
      ],
      "text/plain": [
       "  index  degree            string  cardinality      cost\n",
       "0   [0]    0.88          Age 24.0            1  0.076923\n",
       "1   [1]    0.19           Sex 1.0            1  1.000000\n",
       "2   [2]    0.37           Job 1.0            1  1.000000\n",
       "3   [3]    0.76       Housing 2.0            1  1.000000\n",
       "4   [4]    0.35  Savings 0.456548            1  1.000000"
      ]
     },
     "execution_count": 14,
     "metadata": {},
     "output_type": "execute_result"
    }
   ],
   "source": [
    "recourse_experiment.deg_nec_suff(CF_i2r_causal, inp, f_inp, clf, num_features,\n",
    "                             r2i=False, deg_thresh=0, datatype='Tabular',\n",
    "                             filter_supersets=True, filter_cost=True,\n",
    "                            pred_on_fly=True, max_output=5)"
   ]
  },
  {
   "cell_type": "code",
   "execution_count": 15,
   "metadata": {},
   "outputs": [
    {
     "data": {
      "text/html": [
       "<div>\n",
       "<style scoped>\n",
       "    .dataframe tbody tr th:only-of-type {\n",
       "        vertical-align: middle;\n",
       "    }\n",
       "\n",
       "    .dataframe tbody tr th {\n",
       "        vertical-align: top;\n",
       "    }\n",
       "\n",
       "    .dataframe thead th {\n",
       "        text-align: right;\n",
       "    }\n",
       "</style>\n",
       "<table border=\"1\" class=\"dataframe\">\n",
       "  <thead>\n",
       "    <tr style=\"text-align: right;\">\n",
       "      <th></th>\n",
       "      <th>index</th>\n",
       "      <th>degree</th>\n",
       "      <th>string</th>\n",
       "      <th>cardinality</th>\n",
       "      <th>cost</th>\n",
       "    </tr>\n",
       "  </thead>\n",
       "  <tbody>\n",
       "    <tr>\n",
       "      <th>0</th>\n",
       "      <td>[2]</td>\n",
       "      <td>0.16</td>\n",
       "      <td>Job 3.0</td>\n",
       "      <td>1</td>\n",
       "      <td>1.000000</td>\n",
       "    </tr>\n",
       "    <tr>\n",
       "      <th>1</th>\n",
       "      <td>[5]</td>\n",
       "      <td>0.52</td>\n",
       "      <td>Checking 0.651815</td>\n",
       "      <td>1</td>\n",
       "      <td>1.000000</td>\n",
       "    </tr>\n",
       "    <tr>\n",
       "      <th>2</th>\n",
       "      <td>[7]</td>\n",
       "      <td>0.03</td>\n",
       "      <td>Duration 30.0</td>\n",
       "      <td>1</td>\n",
       "      <td>1.250000</td>\n",
       "    </tr>\n",
       "    <tr>\n",
       "      <th>3</th>\n",
       "      <td>[0, 3]</td>\n",
       "      <td>0.02</td>\n",
       "      <td>Age  65.0, Housing  0.0</td>\n",
       "      <td>2</td>\n",
       "      <td>4.230769</td>\n",
       "    </tr>\n",
       "    <tr>\n",
       "      <th>4</th>\n",
       "      <td>[0, 4]</td>\n",
       "      <td>0.02</td>\n",
       "      <td>Age  34.000000, Savings  0.456548</td>\n",
       "      <td>2</td>\n",
       "      <td>1.846154</td>\n",
       "    </tr>\n",
       "  </tbody>\n",
       "</table>\n",
       "</div>"
      ],
      "text/plain": [
       "    index  degree                             string  cardinality      cost\n",
       "0     [2]    0.16                            Job 3.0            1  1.000000\n",
       "1     [5]    0.52                  Checking 0.651815            1  1.000000\n",
       "2     [7]    0.03                      Duration 30.0            1  1.250000\n",
       "3  [0, 3]    0.02            Age  65.0, Housing  0.0            2  4.230769\n",
       "4  [0, 4]    0.02  Age  34.000000, Savings  0.456548            2  1.846154"
      ]
     },
     "execution_count": 15,
     "metadata": {},
     "output_type": "execute_result"
    }
   ],
   "source": [
    "CF_df_suff_i2r = nec_suf.deg_nec_suff(CF_i2r, inp, f_inp, clf, num_features, r2i=False)\n",
    "recourse_experiment.deg_nec_suff(CF_i2r, inp, f_inp, clf, num_features,\n",
    "                             r2i=False, deg_thresh=0, datatype='Tabular',\n",
    "                             filter_supersets=True, filter_cost=True,\n",
    "                            pred_on_fly=True, max_output=5)"
   ]
  }
 ],
 "metadata": {
  "kernelspec": {
   "display_name": "Python 3",
   "language": "python",
   "name": "python3"
  },
  "language_info": {
   "codemirror_mode": {
    "name": "ipython",
    "version": 3
   },
   "file_extension": ".py",
   "mimetype": "text/x-python",
   "name": "python",
   "nbconvert_exporter": "python",
   "pygments_lexer": "ipython3",
   "version": "3.8.3"
  }
 },
 "nbformat": 4,
 "nbformat_minor": 4
}
