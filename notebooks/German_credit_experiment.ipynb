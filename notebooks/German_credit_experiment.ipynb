{
 "cells": [
  {
   "cell_type": "code",
   "execution_count": 10,
   "metadata": {},
   "outputs": [
    {
     "name": "stdout",
     "output_type": "stream",
     "text": [
      "The autoreload extension is already loaded. To reload it, use:\n",
      "  %reload_ext autoreload\n"
     ]
    }
   ],
   "source": [
    "%load_ext autoreload\n",
    "%autoreload 2\n",
    "import warnings\n",
    "warnings.filterwarnings('ignore')\n",
    "import pandas as pd\n",
    "import numpy as np\n",
    "import seaborn as sns\n",
    "from matplotlib import pyplot as plt \n",
    "import sklearn\n",
    "import shap\n",
    "from scipy import stats\n",
    "from sklearn.metrics import accuracy_score\n",
    "from sklearn.ensemble import ExtraTreesClassifier\n",
    "import sys; sys.path.insert(0, '../src/') \n",
    "import necsuf_tabular_text as nec_suf\n",
    "import cum_shp_plot\n",
    "import anchors_comp"
   ]
  },
  {
   "cell_type": "code",
   "execution_count": 11,
   "metadata": {},
   "outputs": [],
   "source": [
    "# !python3 -m pip install alibi==0.9.5"
   ]
  },
  {
   "cell_type": "code",
   "execution_count": 12,
   "metadata": {},
   "outputs": [],
   "source": [
    "# dataset version taken from https://www.kaggle.com/kabure/german-credit-data-with-risk?select=german_credit_data.csv\n",
    "german_cred_df = pd.read_csv(\"../datasets/german_credit_data.csv\")"
   ]
  },
  {
   "cell_type": "code",
   "execution_count": 13,
   "metadata": {},
   "outputs": [
    {
     "data": {
      "text/html": [
       "<div>\n",
       "<style scoped>\n",
       "    .dataframe tbody tr th:only-of-type {\n",
       "        vertical-align: middle;\n",
       "    }\n",
       "\n",
       "    .dataframe tbody tr th {\n",
       "        vertical-align: top;\n",
       "    }\n",
       "\n",
       "    .dataframe thead th {\n",
       "        text-align: right;\n",
       "    }\n",
       "</style>\n",
       "<table border=\"1\" class=\"dataframe\">\n",
       "  <thead>\n",
       "    <tr style=\"text-align: right;\">\n",
       "      <th></th>\n",
       "      <th>Age</th>\n",
       "      <th>Sex</th>\n",
       "      <th>Job</th>\n",
       "      <th>Housing</th>\n",
       "      <th>Saving accounts</th>\n",
       "      <th>Checking account</th>\n",
       "      <th>Credit amount</th>\n",
       "      <th>Duration</th>\n",
       "      <th>Purpose</th>\n",
       "      <th>outcome</th>\n",
       "    </tr>\n",
       "  </thead>\n",
       "  <tbody>\n",
       "    <tr>\n",
       "      <th>0</th>\n",
       "      <td>67</td>\n",
       "      <td>0.0</td>\n",
       "      <td>2</td>\n",
       "      <td>0.0</td>\n",
       "      <td>0.456548</td>\n",
       "      <td>0.000000</td>\n",
       "      <td>1169</td>\n",
       "      <td>6</td>\n",
       "      <td>0.0</td>\n",
       "      <td>1.0</td>\n",
       "    </tr>\n",
       "    <tr>\n",
       "      <th>1</th>\n",
       "      <td>22</td>\n",
       "      <td>1.0</td>\n",
       "      <td>2</td>\n",
       "      <td>0.0</td>\n",
       "      <td>0.000000</td>\n",
       "      <td>1.000000</td>\n",
       "      <td>5951</td>\n",
       "      <td>48</td>\n",
       "      <td>0.0</td>\n",
       "      <td>0.0</td>\n",
       "    </tr>\n",
       "    <tr>\n",
       "      <th>2</th>\n",
       "      <td>49</td>\n",
       "      <td>0.0</td>\n",
       "      <td>1</td>\n",
       "      <td>0.0</td>\n",
       "      <td>0.000000</td>\n",
       "      <td>0.651815</td>\n",
       "      <td>2096</td>\n",
       "      <td>12</td>\n",
       "      <td>1.0</td>\n",
       "      <td>1.0</td>\n",
       "    </tr>\n",
       "    <tr>\n",
       "      <th>3</th>\n",
       "      <td>45</td>\n",
       "      <td>0.0</td>\n",
       "      <td>2</td>\n",
       "      <td>1.0</td>\n",
       "      <td>0.000000</td>\n",
       "      <td>0.000000</td>\n",
       "      <td>7882</td>\n",
       "      <td>42</td>\n",
       "      <td>2.0</td>\n",
       "      <td>1.0</td>\n",
       "    </tr>\n",
       "    <tr>\n",
       "      <th>4</th>\n",
       "      <td>53</td>\n",
       "      <td>0.0</td>\n",
       "      <td>2</td>\n",
       "      <td>1.0</td>\n",
       "      <td>0.000000</td>\n",
       "      <td>0.000000</td>\n",
       "      <td>4870</td>\n",
       "      <td>24</td>\n",
       "      <td>3.0</td>\n",
       "      <td>0.0</td>\n",
       "    </tr>\n",
       "    <tr>\n",
       "      <th>5</th>\n",
       "      <td>35</td>\n",
       "      <td>0.0</td>\n",
       "      <td>1</td>\n",
       "      <td>1.0</td>\n",
       "      <td>0.456548</td>\n",
       "      <td>0.651815</td>\n",
       "      <td>9055</td>\n",
       "      <td>36</td>\n",
       "      <td>1.0</td>\n",
       "      <td>1.0</td>\n",
       "    </tr>\n",
       "    <tr>\n",
       "      <th>6</th>\n",
       "      <td>53</td>\n",
       "      <td>0.0</td>\n",
       "      <td>2</td>\n",
       "      <td>0.0</td>\n",
       "      <td>2.000000</td>\n",
       "      <td>0.651815</td>\n",
       "      <td>2835</td>\n",
       "      <td>24</td>\n",
       "      <td>2.0</td>\n",
       "      <td>1.0</td>\n",
       "    </tr>\n",
       "    <tr>\n",
       "      <th>7</th>\n",
       "      <td>35</td>\n",
       "      <td>0.0</td>\n",
       "      <td>3</td>\n",
       "      <td>2.0</td>\n",
       "      <td>0.000000</td>\n",
       "      <td>1.000000</td>\n",
       "      <td>6948</td>\n",
       "      <td>36</td>\n",
       "      <td>3.0</td>\n",
       "      <td>1.0</td>\n",
       "    </tr>\n",
       "    <tr>\n",
       "      <th>8</th>\n",
       "      <td>61</td>\n",
       "      <td>0.0</td>\n",
       "      <td>1</td>\n",
       "      <td>0.0</td>\n",
       "      <td>3.000000</td>\n",
       "      <td>0.651815</td>\n",
       "      <td>3059</td>\n",
       "      <td>12</td>\n",
       "      <td>0.0</td>\n",
       "      <td>1.0</td>\n",
       "    </tr>\n",
       "    <tr>\n",
       "      <th>9</th>\n",
       "      <td>28</td>\n",
       "      <td>0.0</td>\n",
       "      <td>3</td>\n",
       "      <td>0.0</td>\n",
       "      <td>0.000000</td>\n",
       "      <td>1.000000</td>\n",
       "      <td>5234</td>\n",
       "      <td>30</td>\n",
       "      <td>3.0</td>\n",
       "      <td>0.0</td>\n",
       "    </tr>\n",
       "  </tbody>\n",
       "</table>\n",
       "</div>"
      ],
      "text/plain": [
       "   Age  Sex  Job  Housing  Saving accounts  Checking account  Credit amount  \\\n",
       "0   67  0.0    2      0.0         0.456548          0.000000           1169   \n",
       "1   22  1.0    2      0.0         0.000000          1.000000           5951   \n",
       "2   49  0.0    1      0.0         0.000000          0.651815           2096   \n",
       "3   45  0.0    2      1.0         0.000000          0.000000           7882   \n",
       "4   53  0.0    2      1.0         0.000000          0.000000           4870   \n",
       "5   35  0.0    1      1.0         0.456548          0.651815           9055   \n",
       "6   53  0.0    2      0.0         2.000000          0.651815           2835   \n",
       "7   35  0.0    3      2.0         0.000000          1.000000           6948   \n",
       "8   61  0.0    1      0.0         3.000000          0.651815           3059   \n",
       "9   28  0.0    3      0.0         0.000000          1.000000           5234   \n",
       "\n",
       "   Duration  Purpose  outcome  \n",
       "0         6      0.0      1.0  \n",
       "1        48      0.0      0.0  \n",
       "2        12      1.0      1.0  \n",
       "3        42      2.0      1.0  \n",
       "4        24      3.0      0.0  \n",
       "5        36      1.0      1.0  \n",
       "6        24      2.0      1.0  \n",
       "7        36      3.0      1.0  \n",
       "8        12      0.0      1.0  \n",
       "9        30      3.0      0.0  "
      ]
     },
     "execution_count": 13,
     "metadata": {},
     "output_type": "execute_result"
    }
   ],
   "source": [
    "# following standard pre-processing from https://www.kaggle.com/vigneshj6/german-credit-data-analysis-python\n",
    "german_cred_df['Saving accounts'] = german_cred_df['Saving accounts'].map({\"little\":0,\"moderate\":1,\"quite rich\":2 ,\"rich\":3 });\n",
    "german_cred_df['Saving accounts'] = german_cred_df['Saving accounts'].fillna(german_cred_df['Saving accounts'].dropna().mean())\n",
    "\n",
    "german_cred_df['Checking account'] = german_cred_df['Checking account'].map({\"little\":0,\"moderate\":1,\"rich\":2 });\n",
    "german_cred_df['Checking account'] = german_cred_df['Checking account'].fillna(german_cred_df['Checking account'].dropna().mean())\n",
    "\n",
    "german_cred_df['Sex'] = german_cred_df['Sex'].map({\"male\":0,\"female\":1}).astype(float);\n",
    "\n",
    "german_cred_df['Housing'] = german_cred_df['Housing'].map({\"own\":0,\"free\":1,\"rent\":2}).astype(float);\n",
    "\n",
    "german_cred_df['Purpose'] = german_cred_df['Purpose'].map({'radio/TV':0, 'education':1, 'furniture/equipment':2, 'car':3, 'business':4,\n",
    "       'domestic appliances':5, 'repairs':6, 'vacation/others':7}).astype(float);\n",
    "\n",
    "german_cred_df['Risk'] = german_cred_df['Risk'].map({\"good\":1,\"bad\":0}).astype(float);\n",
    "german_cred_df.rename(columns={\"Risk\": \"outcome\"}, inplace=True)\n",
    "\n",
    "german_cred_df.drop(\"Unnamed: 0\", axis=1, inplace=True)\n",
    "german_cred_df.head(10)"
   ]
  },
  {
   "cell_type": "markdown",
   "metadata": {},
   "source": [
    "### Problem intiailization"
   ]
  },
  {
   "cell_type": "code",
   "execution_count": 14,
   "metadata": {},
   "outputs": [
    {
     "data": {
      "text/html": [
       "<div>\n",
       "<style scoped>\n",
       "    .dataframe tbody tr th:only-of-type {\n",
       "        vertical-align: middle;\n",
       "    }\n",
       "\n",
       "    .dataframe tbody tr th {\n",
       "        vertical-align: top;\n",
       "    }\n",
       "\n",
       "    .dataframe thead th {\n",
       "        text-align: right;\n",
       "    }\n",
       "</style>\n",
       "<table border=\"1\" class=\"dataframe\">\n",
       "  <thead>\n",
       "    <tr style=\"text-align: right;\">\n",
       "      <th></th>\n",
       "      <th>Age</th>\n",
       "      <th>Sex</th>\n",
       "      <th>Job</th>\n",
       "      <th>Housing</th>\n",
       "      <th>Saving accounts</th>\n",
       "      <th>Checking account</th>\n",
       "      <th>Credit amount</th>\n",
       "      <th>Duration</th>\n",
       "      <th>Purpose</th>\n",
       "      <th>outcome</th>\n",
       "    </tr>\n",
       "  </thead>\n",
       "  <tbody>\n",
       "    <tr>\n",
       "      <th>998</th>\n",
       "      <td>23.0</td>\n",
       "      <td>0.0</td>\n",
       "      <td>2.0</td>\n",
       "      <td>1.0</td>\n",
       "      <td>0.0</td>\n",
       "      <td>0.0</td>\n",
       "      <td>1845.0</td>\n",
       "      <td>45.0</td>\n",
       "      <td>0.0</td>\n",
       "      <td>0.0</td>\n",
       "    </tr>\n",
       "  </tbody>\n",
       "</table>\n",
       "</div>"
      ],
      "text/plain": [
       "      Age  Sex  Job  Housing  Saving accounts  Checking account  \\\n",
       "998  23.0  0.0  2.0      1.0              0.0               0.0   \n",
       "\n",
       "     Credit amount  Duration  Purpose  outcome  \n",
       "998         1845.0      45.0      0.0      0.0  "
      ]
     },
     "execution_count": 14,
     "metadata": {},
     "output_type": "execute_result"
    }
   ],
   "source": [
    "inp = pd.DataFrame(german_cred_df.iloc[998]).T\n",
    "inp"
   ]
  },
  {
   "cell_type": "code",
   "execution_count": 15,
   "metadata": {},
   "outputs": [
    {
     "data": {
      "text/plain": [
       "0.7"
      ]
     },
     "execution_count": 15,
     "metadata": {},
     "output_type": "execute_result"
    }
   ],
   "source": [
    "### ratio positive labels in dataset?\n",
    "np.sum(german_cred_df.outcome)/len(german_cred_df)"
   ]
  },
  {
   "cell_type": "code",
   "execution_count": 16,
   "metadata": {},
   "outputs": [
    {
     "data": {
      "text/plain": [
       "array([0.])"
      ]
     },
     "execution_count": 16,
     "metadata": {},
     "output_type": "execute_result"
    }
   ],
   "source": [
    "#### Create F model\n",
    "X,y = np.array(german_cred_df.iloc[:, :-1]), np.array(german_cred_df.iloc[:, -1:]).ravel()\n",
    "\n",
    "X_train, X_test, y_train, y_test = \\\n",
    "    sklearn.model_selection.train_test_split(X, y, test_size=.2, random_state=42)\n",
    "\n",
    "clf = ExtraTreesClassifier(random_state=0, max_depth=15)\n",
    "clf.fit(X_train, y_train)\n",
    "# save F(inp) for later\n",
    "f_inp = clf.predict(np.array(inp.iloc[:, :-1]))\n",
    "f_inp"
   ]
  },
  {
   "cell_type": "code",
   "execution_count": 17,
   "metadata": {},
   "outputs": [],
   "source": [
    "german_cred_df['Model_pred'] = clf.predict(german_cred_df.iloc[:, :-1].values)"
   ]
  },
  {
   "cell_type": "code",
   "execution_count": 18,
   "metadata": {},
   "outputs": [
    {
     "data": {
      "text/plain": [
       "0.695"
      ]
     },
     "execution_count": 18,
     "metadata": {},
     "output_type": "execute_result"
    }
   ],
   "source": [
    "accuracy_score(y_test, clf.predict(X_test))"
   ]
  },
  {
   "cell_type": "markdown",
   "metadata": {},
   "source": [
    "Tests of dataset: accuracy of single features"
   ]
  },
  {
   "cell_type": "markdown",
   "metadata": {},
   "source": [
    "### CF 1: everyone from opposite class"
   ]
  },
  {
   "cell_type": "code",
   "execution_count": 19,
   "metadata": {},
   "outputs": [],
   "source": [
    "num_features = len(inp.columns[:-1])\n",
    "CF1_r2i, CF1_i2r, refs1 = \\\n",
    "    nec_suf.suff_nec_pipeline((german_cred_df.outcome != inp.outcome.item()), inp, clf, german_cred_df, num_features, predict=True)"
   ]
  },
  {
   "cell_type": "code",
   "execution_count": 20,
   "metadata": {},
   "outputs": [
    {
     "name": "stdout",
     "output_type": "stream",
     "text": [
      "##################\n",
      "Sufficiency R2I\n",
      "##################\n",
      "------------------\n",
      "necessity score:  0.29546127024094776\n",
      "------------------\n"
     ]
    },
    {
     "data": {
      "text/html": [
       "<div>\n",
       "<style scoped>\n",
       "    .dataframe tbody tr th:only-of-type {\n",
       "        vertical-align: middle;\n",
       "    }\n",
       "\n",
       "    .dataframe tbody tr th {\n",
       "        vertical-align: top;\n",
       "    }\n",
       "\n",
       "    .dataframe thead th {\n",
       "        text-align: right;\n",
       "    }\n",
       "</style>\n",
       "<table border=\"1\" class=\"dataframe\">\n",
       "  <thead>\n",
       "    <tr style=\"text-align: right;\">\n",
       "      <th></th>\n",
       "      <th>subset</th>\n",
       "      <th>degree</th>\n",
       "      <th>string</th>\n",
       "      <th>cardinality</th>\n",
       "      <th>cost</th>\n",
       "    </tr>\n",
       "  </thead>\n",
       "  <tbody>\n",
       "    <tr>\n",
       "      <th>226</th>\n",
       "      <td>[2, 3, 5, 7]</td>\n",
       "      <td>0.924286</td>\n",
       "      <td>Job      2.0, Housing     1.0, Checking accoun...</td>\n",
       "      <td>4</td>\n",
       "      <td>4.901544</td>\n",
       "    </tr>\n",
       "    <tr>\n",
       "      <th>177</th>\n",
       "      <td>[0, 4, 5, 7]</td>\n",
       "      <td>0.964286</td>\n",
       "      <td>Age     23.0, Saving accounts   0.0, Checking ...</td>\n",
       "      <td>4</td>\n",
       "      <td>5.198419</td>\n",
       "    </tr>\n",
       "    <tr>\n",
       "      <th>373</th>\n",
       "      <td>[2, 4, 5, 7, 8]</td>\n",
       "      <td>0.918571</td>\n",
       "      <td>Job      2.0, Saving accounts   0.0, Checking ...</td>\n",
       "      <td>5</td>\n",
       "      <td>5.503938</td>\n",
       "    </tr>\n",
       "    <tr>\n",
       "      <th>171</th>\n",
       "      <td>[0, 3, 5, 7]</td>\n",
       "      <td>0.942857</td>\n",
       "      <td>Age     23.0, Housing     1.0, Checking accoun...</td>\n",
       "      <td>4</td>\n",
       "      <td>5.552430</td>\n",
       "    </tr>\n",
       "    <tr>\n",
       "      <th>460</th>\n",
       "      <td>[2, 3, 4, 5, 6, 8]</td>\n",
       "      <td>0.950000</td>\n",
       "      <td>Job     2.0, Housing    1.0, Saving accounts  ...</td>\n",
       "      <td>6</td>\n",
       "      <td>5.631867</td>\n",
       "    </tr>\n",
       "    <tr>\n",
       "      <th>376</th>\n",
       "      <td>[3, 4, 5, 6, 7]</td>\n",
       "      <td>0.937143</td>\n",
       "      <td>Housing    1.0, Saving accounts  0.0, Checking...</td>\n",
       "      <td>5</td>\n",
       "      <td>6.435617</td>\n",
       "    </tr>\n",
       "  </tbody>\n",
       "</table>\n",
       "</div>"
      ],
      "text/plain": [
       "                 subset    degree  \\\n",
       "226        [2, 3, 5, 7]  0.924286   \n",
       "177        [0, 4, 5, 7]  0.964286   \n",
       "373     [2, 4, 5, 7, 8]  0.918571   \n",
       "171        [0, 3, 5, 7]  0.942857   \n",
       "460  [2, 3, 4, 5, 6, 8]  0.950000   \n",
       "376     [3, 4, 5, 6, 7]  0.937143   \n",
       "\n",
       "                                                string  cardinality      cost  \n",
       "226  Job      2.0, Housing     1.0, Checking accoun...            4  4.901544  \n",
       "177  Age     23.0, Saving accounts   0.0, Checking ...            4  5.198419  \n",
       "373  Job      2.0, Saving accounts   0.0, Checking ...            5  5.503938  \n",
       "171  Age     23.0, Housing     1.0, Checking accoun...            4  5.552430  \n",
       "460  Job     2.0, Housing    1.0, Saving accounts  ...            6  5.631867  \n",
       "376  Housing    1.0, Saving accounts  0.0, Checking...            5  6.435617  "
      ]
     },
     "execution_count": 20,
     "metadata": {},
     "output_type": "execute_result"
    }
   ],
   "source": [
    "print(\"##################\")\n",
    "print(\"Sufficiency R2I\")\n",
    "print(\"##################\")\n",
    "CF1_df_deg_r2i = nec_suf.deg_nec_suff(CF1_r2i, inp, f_inp, clf, num_features, r2i=True, pred_on_fly=False, deg_thresh=0)\n",
    "sub_df_filtered = nec_suf.filter_by_degree_and_overalp(CF1_df_deg_r2i, degree_thresh=0.9, subset_max_num=10)\n",
    "print(\"------------------\")\n",
    "print(\"necessity score: \", nec_suf.recall_nec_score(CF1_r2i, sub_df_filtered, f_inp))\n",
    "print(\"------------------\")\n",
    "sub_df_filtered"
   ]
  },
  {
   "cell_type": "code",
   "execution_count": 21,
   "metadata": {},
   "outputs": [
    {
     "name": "stdout",
     "output_type": "stream",
     "text": [
      "##################\n",
      "Sufficiency I2R\n",
      "##################\n",
      "------------------\n",
      "necessity score:  0.14059955170690017\n",
      "------------------\n"
     ]
    },
    {
     "data": {
      "text/html": [
       "<div>\n",
       "<style scoped>\n",
       "    .dataframe tbody tr th:only-of-type {\n",
       "        vertical-align: middle;\n",
       "    }\n",
       "\n",
       "    .dataframe tbody tr th {\n",
       "        vertical-align: top;\n",
       "    }\n",
       "\n",
       "    .dataframe thead th {\n",
       "        text-align: right;\n",
       "    }\n",
       "</style>\n",
       "<table border=\"1\" class=\"dataframe\">\n",
       "  <thead>\n",
       "    <tr style=\"text-align: right;\">\n",
       "      <th></th>\n",
       "      <th>subset</th>\n",
       "      <th>degree</th>\n",
       "      <th>string</th>\n",
       "      <th>cardinality</th>\n",
       "      <th>cost</th>\n",
       "    </tr>\n",
       "  </thead>\n",
       "  <tbody>\n",
       "    <tr>\n",
       "      <th>378</th>\n",
       "      <td>[3, 4, 5, 7, 8]</td>\n",
       "      <td>0.917143</td>\n",
       "      <td>Housing     1.0, Saving accounts   0.0, Checki...</td>\n",
       "      <td>5</td>\n",
       "      <td>1.250000</td>\n",
       "    </tr>\n",
       "    <tr>\n",
       "      <th>439</th>\n",
       "      <td>[1, 2, 3, 4, 5, 7]</td>\n",
       "      <td>0.902857</td>\n",
       "      <td>Sex       0.0, Job       2.0, Housing      1.0...</td>\n",
       "      <td>6</td>\n",
       "      <td>1.553630</td>\n",
       "    </tr>\n",
       "    <tr>\n",
       "      <th>296</th>\n",
       "      <td>[0, 2, 3, 5, 7]</td>\n",
       "      <td>0.904286</td>\n",
       "      <td>Age     22.0, Job      2.0, Housing     1.0, C...</td>\n",
       "      <td>5</td>\n",
       "      <td>1.826923</td>\n",
       "    </tr>\n",
       "    <tr>\n",
       "      <th>312</th>\n",
       "      <td>[0, 3, 4, 5, 7]</td>\n",
       "      <td>0.915714</td>\n",
       "      <td>Age     22.0, Housing     1.0, Saving accounts...</td>\n",
       "      <td>5</td>\n",
       "      <td>1.826923</td>\n",
       "    </tr>\n",
       "    <tr>\n",
       "      <th>319</th>\n",
       "      <td>[0, 3, 5, 7, 8]</td>\n",
       "      <td>0.915714</td>\n",
       "      <td>Age      31.0, Housing      1.0, Checking acco...</td>\n",
       "      <td>5</td>\n",
       "      <td>2.669015</td>\n",
       "    </tr>\n",
       "    <tr>\n",
       "      <th>498</th>\n",
       "      <td>[1, 2, 3, 5, 6, 7, 8]</td>\n",
       "      <td>0.902857</td>\n",
       "      <td>Sex     0.0, Job     2.0, Housing    0.0, Chec...</td>\n",
       "      <td>7</td>\n",
       "      <td>2.829127</td>\n",
       "    </tr>\n",
       "    <tr>\n",
       "      <th>408</th>\n",
       "      <td>[0, 1, 3, 5, 6, 7]</td>\n",
       "      <td>0.912857</td>\n",
       "      <td>Age       24.0, Sex     0.0, Housing    0.0, C...</td>\n",
       "      <td>6</td>\n",
       "      <td>2.910755</td>\n",
       "    </tr>\n",
       "  </tbody>\n",
       "</table>\n",
       "</div>"
      ],
      "text/plain": [
       "                    subset    degree  \\\n",
       "378        [3, 4, 5, 7, 8]  0.917143   \n",
       "439     [1, 2, 3, 4, 5, 7]  0.902857   \n",
       "296        [0, 2, 3, 5, 7]  0.904286   \n",
       "312        [0, 3, 4, 5, 7]  0.915714   \n",
       "319        [0, 3, 5, 7, 8]  0.915714   \n",
       "498  [1, 2, 3, 5, 6, 7, 8]  0.902857   \n",
       "408     [0, 1, 3, 5, 6, 7]  0.912857   \n",
       "\n",
       "                                                string  cardinality      cost  \n",
       "378  Housing     1.0, Saving accounts   0.0, Checki...            5  1.250000  \n",
       "439  Sex       0.0, Job       2.0, Housing      1.0...            6  1.553630  \n",
       "296  Age     22.0, Job      2.0, Housing     1.0, C...            5  1.826923  \n",
       "312  Age     22.0, Housing     1.0, Saving accounts...            5  1.826923  \n",
       "319  Age      31.0, Housing      1.0, Checking acco...            5  2.669015  \n",
       "498  Sex     0.0, Job     2.0, Housing    0.0, Chec...            7  2.829127  \n",
       "408  Age       24.0, Sex     0.0, Housing    0.0, C...            6  2.910755  "
      ]
     },
     "execution_count": 21,
     "metadata": {},
     "output_type": "execute_result"
    }
   ],
   "source": [
    "print(\"##################\")\n",
    "print(\"Sufficiency I2R\")\n",
    "print(\"##################\")\n",
    "\n",
    "CF1_df_deg_i2r = nec_suf.deg_nec_suff(CF1_i2r, inp, f_inp, clf, num_features, r2i=False, deg_thresh=0)\n",
    "sub_df_filtered_i2r = nec_suf.filter_by_degree_and_overalp(CF1_df_deg_i2r, degree_thresh=0.9, subset_max_num=10)\n",
    "print(\"------------------\")\n",
    "print(\"necessity score: \", nec_suf.recall_nec_score(CF1_i2r, sub_df_filtered_i2r, f_inp, r2i=False))\n",
    "print(\"------------------\")\n",
    "sub_df_filtered_i2r"
   ]
  },
  {
   "cell_type": "markdown",
   "metadata": {},
   "source": [
    "### Precision/Recall curve"
   ]
  },
  {
   "cell_type": "code",
   "execution_count": 22,
   "metadata": {},
   "outputs": [
    {
     "data": {
      "image/png": "[encoded data removed]",
      "text/plain": [
       "<Figure size 640x480 with 1 Axes>"
      ]
     },
     "metadata": {},
     "output_type": "display_data"
    }
   ],
   "source": [
    "threshs, recalls_suff = nec_suf.prec_recall_curve(CF1_r2i, CF1_df_deg_r2i, f_inp)\n",
    "threshs, recall_butfor = nec_suf.prec_recall_curve(CF1_i2r, CF1_df_deg_i2r, f_inp)\n",
    "nec_suf.plot_prec_recall(threshs, recalls_suff, r2i=True)"
   ]
  },
  {
   "cell_type": "markdown",
   "metadata": {},
   "source": [
    "### SHAP comparison"
   ]
  },
  {
   "cell_type": "code",
   "execution_count": 23,
   "metadata": {},
   "outputs": [
    {
     "ename": "AttributeError",
     "evalue": "'Index' object has no attribute '_format_native_types'",
     "output_type": "error",
     "traceback": [
      "\u001b[0;31m---------------------------------------------------------------------------\u001b[0m",
      "\u001b[0;31mAttributeError\u001b[0m                            Traceback (most recent call last)",
      "Cell \u001b[0;32mIn[23], line 4\u001b[0m\n\u001b[1;32m      1\u001b[0m all_inp_deg_suff_r2i, all_inp_deg_suff_i2r, all_shaps \u001b[38;5;241m=\u001b[39m \\\n\u001b[1;32m      2\u001b[0m     cum_shp_plot\u001b[38;5;241m.\u001b[39mcumul_shap_vs_us_multi_input(german_cred_df, clf, \n\u001b[1;32m      3\u001b[0m                                               \u001b[38;5;124m\"\u001b[39m\u001b[38;5;124mdataset.outcome != inp_i.outcome.item()\u001b[39m\u001b[38;5;124m\"\u001b[39m, num_features, num_inp\u001b[38;5;241m=\u001b[39m\u001b[38;5;241m50\u001b[39m)\n\u001b[0;32m----> 4\u001b[0m cum_shp_plot\u001b[38;5;241m.\u001b[39mmean_and_plot(all_inp_deg_suff_r2i, all_shaps, title_name\u001b[38;5;241m=\u001b[39m\u001b[38;5;124m'\u001b[39m\u001b[38;5;124msufficiency r2i\u001b[39m\u001b[38;5;124m'\u001b[39m)\n\u001b[1;32m      5\u001b[0m cum_shp_plot\u001b[38;5;241m.\u001b[39mmean_and_plot(all_inp_deg_suff_i2r, all_shaps, title_name\u001b[38;5;241m=\u001b[39m\u001b[38;5;124m'\u001b[39m\u001b[38;5;124msufficiency i2r\u001b[39m\u001b[38;5;124m'\u001b[39m)\n",
      "File \u001b[0;32m~/projects/LENS/notebooks/../src/cum_shp_plot.py:128\u001b[0m, in \u001b[0;36mmean_and_plot\u001b[0;34m(all_inp_deg, all_shaps, title_name, dataset_name)\u001b[0m\n\u001b[1;32m    125\u001b[0m dict_results \u001b[38;5;241m=\u001b[39m {\u001b[38;5;124m'\u001b[39m\u001b[38;5;124mfinal_shaps_mean\u001b[39m\u001b[38;5;124m'\u001b[39m: final_shaps_mean, \u001b[38;5;124m'\u001b[39m\u001b[38;5;124mour_k_inputs_mean\u001b[39m\u001b[38;5;124m'\u001b[39m: our_k_inputs_mean,\n\u001b[1;32m    126\u001b[0m                 \u001b[38;5;124m'\u001b[39m\u001b[38;5;124mfinal_shaps_ci\u001b[39m\u001b[38;5;124m'\u001b[39m: final_shaps_ci, \u001b[38;5;124m'\u001b[39m\u001b[38;5;124mour_k_inputs_ci\u001b[39m\u001b[38;5;124m'\u001b[39m: our_k_inputs_ci}\n\u001b[1;32m    127\u001b[0m df_results \u001b[38;5;241m=\u001b[39m pd\u001b[38;5;241m.\u001b[39mDataFrame(dict_results)\n\u001b[0;32m--> 128\u001b[0m df_results\u001b[38;5;241m.\u001b[39mto_csv(\u001b[38;5;124m\"\u001b[39m\u001b[38;5;124mout/\u001b[39m\u001b[38;5;132;01m{}\u001b[39;00m\u001b[38;5;124m_\u001b[39m\u001b[38;5;132;01m{}\u001b[39;00m\u001b[38;5;124m_k_cum_shap_vs_us.csv\u001b[39m\u001b[38;5;124m\"\u001b[39m\u001b[38;5;241m.\u001b[39mformat(dataset_name, title_name))\n\u001b[1;32m    130\u001b[0m plt\u001b[38;5;241m.\u001b[39mtitle(\u001b[38;5;124m\"\u001b[39m\u001b[38;5;132;01m{}\u001b[39;00m\u001b[38;5;124m \u001b[39m\u001b[38;5;132;01m{}\u001b[39;00m\u001b[38;5;124m k cum shap vs. us\u001b[39m\u001b[38;5;124m\"\u001b[39m\u001b[38;5;241m.\u001b[39mformat(dataset_name, title_name))\n\u001b[1;32m    131\u001b[0m plt\u001b[38;5;241m.\u001b[39mxlabel(\u001b[38;5;124m\"\u001b[39m\u001b[38;5;124mcardinality\u001b[39m\u001b[38;5;124m\"\u001b[39m)\n",
      "File \u001b[0;32m~/miniforge3/envs/lens_temp/lib/python3.11/site-packages/pandas/util/_decorators.py:333\u001b[0m, in \u001b[0;36mwrapper\u001b[0;34m(*args, **kwargs)\u001b[0m\n\u001b[1;32m    326\u001b[0m         warnings.warn(\n\u001b[1;32m    327\u001b[0m             msg.format(arguments=_format_argument_list(allow_args)),\n\u001b[1;32m    328\u001b[0m             FutureWarning,\n\u001b[1;32m    329\u001b[0m             stacklevel=find_stack_level(),\n\u001b[1;32m    330\u001b[0m         )\n\u001b[1;32m    331\u001b[0m     return func(*args, **kwargs)\n\u001b[0;32m--> 333\u001b[0m # error: \"Callable[[VarArg(Any), KwArg(Any)], Any]\" has no\n\u001b[1;32m    334\u001b[0m # attribute \"__signature__\"\n\u001b[1;32m    335\u001b[0m wrapper.__signature__ = new_sig  # type: ignore[attr-defined]\n\u001b[1;32m    336\u001b[0m return wrapper\n",
      "File \u001b[0;32m~/miniforge3/envs/lens_temp/lib/python3.11/site-packages/pandas/core/generic.py:3967\u001b[0m, in \u001b[0;36mto_csv\u001b[0;34m(self, path_or_buf, sep, na_rep, float_format, columns, header, index, index_label, mode, encoding, compression, quoting, quotechar, lineterminator, chunksize, date_format, doublequote, escapechar, decimal, errors, storage_options)\u001b[0m\n\u001b[1;32m   3908\u001b[0m \u001b[38;5;129m@final\u001b[39m\n\u001b[1;32m   3909\u001b[0m \u001b[38;5;28;01mdef\u001b[39;00m \u001b[38;5;21mxs\u001b[39m(\n\u001b[1;32m   3910\u001b[0m     \u001b[38;5;28mself\u001b[39m: NDFrameT,\n\u001b[0;32m   (...)\u001b[0m\n\u001b[1;32m   3914\u001b[0m     drop_level: bool_t \u001b[38;5;241m=\u001b[39m \u001b[38;5;28;01mTrue\u001b[39;00m,\n\u001b[1;32m   3915\u001b[0m ) \u001b[38;5;241m-\u001b[39m\u001b[38;5;241m>\u001b[39m NDFrameT:\n\u001b[1;32m   3916\u001b[0m \u001b[38;5;250m    \u001b[39m\u001b[38;5;124;03m\"\"\"\u001b[39;00m\n\u001b[1;32m   3917\u001b[0m \u001b[38;5;124;03m    Return cross-section from the Series/DataFrame.\u001b[39;00m\n\u001b[1;32m   3918\u001b[0m \n\u001b[1;32m   3919\u001b[0m \u001b[38;5;124;03m    This method takes a `key` argument to select data at a particular\u001b[39;00m\n\u001b[1;32m   3920\u001b[0m \u001b[38;5;124;03m    level of a MultiIndex.\u001b[39;00m\n\u001b[1;32m   3921\u001b[0m \n\u001b[1;32m   3922\u001b[0m \u001b[38;5;124;03m    Parameters\u001b[39;00m\n\u001b[1;32m   3923\u001b[0m \u001b[38;5;124;03m    ----------\u001b[39;00m\n\u001b[1;32m   3924\u001b[0m \u001b[38;5;124;03m    key : label or tuple of label\u001b[39;00m\n\u001b[1;32m   3925\u001b[0m \u001b[38;5;124;03m        Label contained in the index, or partially in a MultiIndex.\u001b[39;00m\n\u001b[1;32m   3926\u001b[0m \u001b[38;5;124;03m    axis : {0 or 'index', 1 or 'columns'}, default 0\u001b[39;00m\n\u001b[1;32m   3927\u001b[0m \u001b[38;5;124;03m        Axis to retrieve cross-section on.\u001b[39;00m\n\u001b[1;32m   3928\u001b[0m \u001b[38;5;124;03m    level : object, defaults to first n levels (n=1 or len(key))\u001b[39;00m\n\u001b[1;32m   3929\u001b[0m \u001b[38;5;124;03m        In case of a key partially contained in a MultiIndex, indicate\u001b[39;00m\n\u001b[1;32m   3930\u001b[0m \u001b[38;5;124;03m        which levels are used. Levels can be referred by label or position.\u001b[39;00m\n\u001b[1;32m   3931\u001b[0m \u001b[38;5;124;03m    drop_level : bool, default True\u001b[39;00m\n\u001b[1;32m   3932\u001b[0m \u001b[38;5;124;03m        If False, returns object with same levels as self.\u001b[39;00m\n\u001b[1;32m   3933\u001b[0m \n\u001b[1;32m   3934\u001b[0m \u001b[38;5;124;03m    Returns\u001b[39;00m\n\u001b[1;32m   3935\u001b[0m \u001b[38;5;124;03m    -------\u001b[39;00m\n\u001b[1;32m   3936\u001b[0m \u001b[38;5;124;03m    Series or DataFrame\u001b[39;00m\n\u001b[1;32m   3937\u001b[0m \u001b[38;5;124;03m        Cross-section from the original Series or DataFrame\u001b[39;00m\n\u001b[1;32m   3938\u001b[0m \u001b[38;5;124;03m        corresponding to the selected index levels.\u001b[39;00m\n\u001b[1;32m   3939\u001b[0m \n\u001b[1;32m   3940\u001b[0m \u001b[38;5;124;03m    See Also\u001b[39;00m\n\u001b[1;32m   3941\u001b[0m \u001b[38;5;124;03m    --------\u001b[39;00m\n\u001b[1;32m   3942\u001b[0m \u001b[38;5;124;03m    DataFrame.loc : Access a group of rows and columns\u001b[39;00m\n\u001b[1;32m   3943\u001b[0m \u001b[38;5;124;03m        by label(s) or a boolean array.\u001b[39;00m\n\u001b[1;32m   3944\u001b[0m \u001b[38;5;124;03m    DataFrame.iloc : Purely integer-location based indexing\u001b[39;00m\n\u001b[1;32m   3945\u001b[0m \u001b[38;5;124;03m        for selection by position.\u001b[39;00m\n\u001b[1;32m   3946\u001b[0m \n\u001b[1;32m   3947\u001b[0m \u001b[38;5;124;03m    Notes\u001b[39;00m\n\u001b[1;32m   3948\u001b[0m \u001b[38;5;124;03m    -----\u001b[39;00m\n\u001b[1;32m   3949\u001b[0m \u001b[38;5;124;03m    `xs` can not be used to set values.\u001b[39;00m\n\u001b[1;32m   3950\u001b[0m \n\u001b[1;32m   3951\u001b[0m \u001b[38;5;124;03m    MultiIndex Slicers is a generic way to get/set values on\u001b[39;00m\n\u001b[1;32m   3952\u001b[0m \u001b[38;5;124;03m    any level or levels.\u001b[39;00m\n\u001b[1;32m   3953\u001b[0m \u001b[38;5;124;03m    It is a superset of `xs` functionality, see\u001b[39;00m\n\u001b[1;32m   3954\u001b[0m \u001b[38;5;124;03m    :ref:`MultiIndex Slicers <advanced.mi_slicers>`.\u001b[39;00m\n\u001b[1;32m   3955\u001b[0m \n\u001b[1;32m   3956\u001b[0m \u001b[38;5;124;03m    Examples\u001b[39;00m\n\u001b[1;32m   3957\u001b[0m \u001b[38;5;124;03m    --------\u001b[39;00m\n\u001b[1;32m   3958\u001b[0m \u001b[38;5;124;03m    >>> d = {'num_legs': [4, 4, 2, 2],\u001b[39;00m\n\u001b[1;32m   3959\u001b[0m \u001b[38;5;124;03m    ...      'num_wings': [0, 0, 2, 2],\u001b[39;00m\n\u001b[1;32m   3960\u001b[0m \u001b[38;5;124;03m    ...      'class': ['mammal', 'mammal', 'mammal', 'bird'],\u001b[39;00m\n\u001b[1;32m   3961\u001b[0m \u001b[38;5;124;03m    ...      'animal': ['cat', 'dog', 'bat', 'penguin'],\u001b[39;00m\n\u001b[1;32m   3962\u001b[0m \u001b[38;5;124;03m    ...      'locomotion': ['walks', 'walks', 'flies', 'walks']}\u001b[39;00m\n\u001b[1;32m   3963\u001b[0m \u001b[38;5;124;03m    >>> df = pd.DataFrame(data=d)\u001b[39;00m\n\u001b[1;32m   3964\u001b[0m \u001b[38;5;124;03m    >>> df = df.set_index(['class', 'animal', 'locomotion'])\u001b[39;00m\n\u001b[1;32m   3965\u001b[0m \u001b[38;5;124;03m    >>> df\u001b[39;00m\n\u001b[1;32m   3966\u001b[0m \u001b[38;5;124;03m                               num_legs  num_wings\u001b[39;00m\n\u001b[0;32m-> 3967\u001b[0m \u001b[38;5;124;03m    class  animal  locomotion\u001b[39;00m\n\u001b[1;32m   3968\u001b[0m \u001b[38;5;124;03m    mammal cat     walks              4          0\u001b[39;00m\n\u001b[1;32m   3969\u001b[0m \u001b[38;5;124;03m           dog     walks              4          0\u001b[39;00m\n\u001b[1;32m   3970\u001b[0m \u001b[38;5;124;03m           bat     flies              2          2\u001b[39;00m\n\u001b[1;32m   3971\u001b[0m \u001b[38;5;124;03m    bird   penguin walks              2          2\u001b[39;00m\n\u001b[1;32m   3972\u001b[0m \n\u001b[1;32m   3973\u001b[0m \u001b[38;5;124;03m    Get values at specified index\u001b[39;00m\n\u001b[1;32m   3974\u001b[0m \n\u001b[1;32m   3975\u001b[0m \u001b[38;5;124;03m    >>> df.xs('mammal')\u001b[39;00m\n\u001b[1;32m   3976\u001b[0m \u001b[38;5;124;03m                       num_legs  num_wings\u001b[39;00m\n\u001b[1;32m   3977\u001b[0m \u001b[38;5;124;03m    animal locomotion\u001b[39;00m\n\u001b[1;32m   3978\u001b[0m \u001b[38;5;124;03m    cat    walks              4          0\u001b[39;00m\n\u001b[1;32m   3979\u001b[0m \u001b[38;5;124;03m    dog    walks              4          0\u001b[39;00m\n\u001b[1;32m   3980\u001b[0m \u001b[38;5;124;03m    bat    flies              2          2\u001b[39;00m\n\u001b[1;32m   3981\u001b[0m \n\u001b[1;32m   3982\u001b[0m \u001b[38;5;124;03m    Get values at several indexes\u001b[39;00m\n\u001b[1;32m   3983\u001b[0m \n\u001b[1;32m   3984\u001b[0m \u001b[38;5;124;03m    >>> df.xs(('mammal', 'dog'))\u001b[39;00m\n\u001b[1;32m   3985\u001b[0m \u001b[38;5;124;03m                num_legs  num_wings\u001b[39;00m\n\u001b[1;32m   3986\u001b[0m \u001b[38;5;124;03m    locomotion\u001b[39;00m\n\u001b[1;32m   3987\u001b[0m \u001b[38;5;124;03m    walks              4          0\u001b[39;00m\n\u001b[1;32m   3988\u001b[0m \n\u001b[1;32m   3989\u001b[0m \u001b[38;5;124;03m    Get values at specified index and level\u001b[39;00m\n\u001b[1;32m   3990\u001b[0m \n\u001b[1;32m   3991\u001b[0m \u001b[38;5;124;03m    >>> df.xs('cat', level=1)\u001b[39;00m\n\u001b[1;32m   3992\u001b[0m \u001b[38;5;124;03m                       num_legs  num_wings\u001b[39;00m\n\u001b[1;32m   3993\u001b[0m \u001b[38;5;124;03m    class  locomotion\u001b[39;00m\n\u001b[1;32m   3994\u001b[0m \u001b[38;5;124;03m    mammal walks              4          0\u001b[39;00m\n\u001b[1;32m   3995\u001b[0m \n\u001b[1;32m   3996\u001b[0m \u001b[38;5;124;03m    Get values at several indexes and levels\u001b[39;00m\n\u001b[1;32m   3997\u001b[0m \n\u001b[1;32m   3998\u001b[0m \u001b[38;5;124;03m    >>> df.xs(('bird', 'walks'),\u001b[39;00m\n\u001b[1;32m   3999\u001b[0m \u001b[38;5;124;03m    ...       level=[0, 'locomotion'])\u001b[39;00m\n\u001b[1;32m   4000\u001b[0m \u001b[38;5;124;03m             num_legs  num_wings\u001b[39;00m\n\u001b[1;32m   4001\u001b[0m \u001b[38;5;124;03m    animal\u001b[39;00m\n\u001b[1;32m   4002\u001b[0m \u001b[38;5;124;03m    penguin         2          2\u001b[39;00m\n\u001b[1;32m   4003\u001b[0m \n\u001b[1;32m   4004\u001b[0m \u001b[38;5;124;03m    Get values at specified column and axis\u001b[39;00m\n\u001b[1;32m   4005\u001b[0m \n\u001b[1;32m   4006\u001b[0m \u001b[38;5;124;03m    >>> df.xs('num_wings', axis=1)\u001b[39;00m\n\u001b[1;32m   4007\u001b[0m \u001b[38;5;124;03m    class   animal   locomotion\u001b[39;00m\n\u001b[1;32m   4008\u001b[0m \u001b[38;5;124;03m    mammal  cat      walks         0\u001b[39;00m\n\u001b[1;32m   4009\u001b[0m \u001b[38;5;124;03m            dog      walks         0\u001b[39;00m\n\u001b[1;32m   4010\u001b[0m \u001b[38;5;124;03m            bat      flies         2\u001b[39;00m\n\u001b[1;32m   4011\u001b[0m \u001b[38;5;124;03m    bird    penguin  walks         2\u001b[39;00m\n\u001b[1;32m   4012\u001b[0m \u001b[38;5;124;03m    Name: num_wings, dtype: int64\u001b[39;00m\n\u001b[1;32m   4013\u001b[0m \u001b[38;5;124;03m    \"\"\"\u001b[39;00m\n\u001b[1;32m   4014\u001b[0m     axis \u001b[38;5;241m=\u001b[39m \u001b[38;5;28mself\u001b[39m\u001b[38;5;241m.\u001b[39m_get_axis_number(axis)\n\u001b[1;32m   4015\u001b[0m     labels \u001b[38;5;241m=\u001b[39m \u001b[38;5;28mself\u001b[39m\u001b[38;5;241m.\u001b[39m_get_axis(axis)\n",
      "File \u001b[0;32m~/miniforge3/envs/lens_temp/lib/python3.11/site-packages/pandas/io/formats/format.py:995\u001b[0m, in \u001b[0;36mto_csv\u001b[0;34m(self, path_or_buf, encoding, sep, columns, index_label, mode, compression, quoting, quotechar, lineterminator, chunksize, date_format, doublequote, escapechar, errors, storage_options)\u001b[0m\n\u001b[1;32m    992\u001b[0m \u001b[38;5;28;01melse\u001b[39;00m:\n\u001b[1;32m    993\u001b[0m     col_header \u001b[38;5;241m=\u001b[39m [\u001b[38;5;124m\"\u001b[39m\u001b[38;5;124m\"\u001b[39m] \u001b[38;5;241m*\u001b[39m columns\u001b[38;5;241m.\u001b[39mnlevels\n\u001b[0;32m--> 995\u001b[0m \u001b[38;5;28;01mif\u001b[39;00m \u001b[38;5;28mself\u001b[39m\u001b[38;5;241m.\u001b[39mheader:\n\u001b[1;32m    996\u001b[0m     \u001b[38;5;28;01mreturn\u001b[39;00m col_header \u001b[38;5;241m+\u001b[39m adjoined\n\u001b[1;32m    997\u001b[0m \u001b[38;5;28;01melse\u001b[39;00m:\n",
      "File \u001b[0;32m~/miniforge3/envs/lens_temp/lib/python3.11/site-packages/pandas/io/formats/csvs.py:89\u001b[0m, in \u001b[0;36mCSVFormatter.__init__\u001b[0;34m(self, formatter, path_or_buf, sep, cols, index_label, mode, encoding, errors, compression, quoting, lineterminator, chunksize, quotechar, date_format, doublequote, escapechar, storage_options)\u001b[0m\n\u001b[1;32m     87\u001b[0m \u001b[38;5;28mself\u001b[39m\u001b[38;5;241m.\u001b[39mlineterminator \u001b[38;5;241m=\u001b[39m lineterminator \u001b[38;5;129;01mor\u001b[39;00m os\u001b[38;5;241m.\u001b[39mlinesep\n\u001b[1;32m     88\u001b[0m \u001b[38;5;28mself\u001b[39m\u001b[38;5;241m.\u001b[39mdate_format \u001b[38;5;241m=\u001b[39m date_format\n\u001b[0;32m---> 89\u001b[0m \u001b[38;5;28mself\u001b[39m\u001b[38;5;241m.\u001b[39mcols \u001b[38;5;241m=\u001b[39m \u001b[38;5;28mself\u001b[39m\u001b[38;5;241m.\u001b[39m_initialize_columns(cols)\n\u001b[1;32m     90\u001b[0m \u001b[38;5;28mself\u001b[39m\u001b[38;5;241m.\u001b[39mchunksize \u001b[38;5;241m=\u001b[39m \u001b[38;5;28mself\u001b[39m\u001b[38;5;241m.\u001b[39m_initialize_chunksize(chunksize)\n",
      "File \u001b[0;32m~/miniforge3/envs/lens_temp/lib/python3.11/site-packages/pandas/io/formats/csvs.py:161\u001b[0m, in \u001b[0;36mCSVFormatter._initialize_columns\u001b[0;34m(self, cols)\u001b[0m\n\u001b[1;32m    158\u001b[0m \u001b[38;5;66;03m# update columns to include possible multiplicity of dupes\u001b[39;00m\n\u001b[1;32m    159\u001b[0m \u001b[38;5;66;03m# and make sure cols is just a list of labels\u001b[39;00m\n\u001b[1;32m    160\u001b[0m new_cols \u001b[38;5;241m=\u001b[39m \u001b[38;5;28mself\u001b[39m\u001b[38;5;241m.\u001b[39mobj\u001b[38;5;241m.\u001b[39mcolumns\n\u001b[0;32m--> 161\u001b[0m \u001b[38;5;28;01mreturn\u001b[39;00m new_cols\u001b[38;5;241m.\u001b[39m_format_native_types(\u001b[38;5;241m*\u001b[39m\u001b[38;5;241m*\u001b[39m\u001b[38;5;28mself\u001b[39m\u001b[38;5;241m.\u001b[39m_number_format)\n",
      "\u001b[0;31mAttributeError\u001b[0m: 'Index' object has no attribute '_format_native_types'"
     ]
    },
    {
     "data": {
      "image/png": "[encoded data removed]",
      "text/plain": [
       "<Figure size 640x480 with 1 Axes>"
      ]
     },
     "metadata": {},
     "output_type": "display_data"
    }
   ],
   "source": [
    "all_inp_deg_suff_r2i, all_inp_deg_suff_i2r, all_shaps = \\\n",
    "    cum_shp_plot.cumul_shap_vs_us_multi_input(german_cred_df, clf, \n",
    "                                              \"dataset.outcome != inp_i.outcome.item()\", num_features, num_inp=50)\n",
    "cum_shp_plot.mean_and_plot(all_inp_deg_suff_r2i, all_shaps, title_name='sufficiency r2i')\n",
    "cum_shp_plot.mean_and_plot(all_inp_deg_suff_i2r, all_shaps, title_name='sufficiency i2r')"
   ]
  },
  {
   "cell_type": "markdown",
   "metadata": {},
   "source": [
    "### Create Facet figure for paper, german credit and spam vs. SHAP\n",
    "**note, this requires running the SHAP comparison cells in Spam_experiment.ipynb. Only once results are stored in out/, can the next cells run properly**"
   ]
  },
  {
   "cell_type": "code",
   "execution_count": null,
   "metadata": {},
   "outputs": [],
   "source": [
    "credit_r2i = pd.read_csv(\"out/credit_sufficiency_r2i_k_cum_shap_vs_us.csv\")\n",
    "credit_r2i['source'] = ['R2I']*len(credit_r2i)\n",
    "credit_r2i['dataset'] = ['Credit']*len(credit_r2i)\n",
    "credit_i2r = pd.read_csv(\"out/credit_sufficiency_i2r_k_cum_shap_vs_us.csv\")\n",
    "credit_i2r['source'] = ['I2R']*len(credit_i2r)\n",
    "credit_i2r['dataset'] = ['Credit']*len(credit_i2r)\n",
    "spam_r2i = pd.read_csv(\"out/spam_sufficiency_r2i_k_cum_shap_vs_us.csv\")\n",
    "spam_r2i['source'] = ['R2I']*len(spam_r2i)\n",
    "spam_r2i['dataset'] = ['Spam']*len(spam_r2i)\n",
    "spam_i2r = pd.read_csv(\"out/spam_sufficiency_i2r_k_cum_shap_vs_us.csv\")\n",
    "spam_i2r['source'] = ['I2R']*len(spam_i2r)\n",
    "spam_i2r['dataset'] = ['Spam']*len(spam_i2r)\n",
    "\n",
    "combined = pd.concat([credit_r2i, \n",
    "                      credit_i2r, \n",
    "                      spam_r2i, \n",
    "                      spam_i2r], axis=0)\n",
    "combined_r2i = pd.concat([credit_r2i, spam_r2i], axis=0)\n",
    "combined_i2r = pd.concat([credit_i2r, spam_i2r], axis=0)\n",
    "\n",
    "combined_r2i[\"Unnamed: 0\"] = combined_r2i[\"Unnamed: 0\"].apply(lambda x: x+1)\n",
    "combined_r2i = combined_r2i.rename(columns={\"Unnamed: 0\": \"Cardinality\"})\n",
    "\n",
    "combined_i2r[\"Unnamed: 0\"] = combined_i2r[\"Unnamed: 0\"].apply(lambda x: x+1)\n",
    "combined_i2r = combined_i2r.rename(columns={\"Unnamed: 0\": \"Cardinality\"})"
   ]
  },
  {
   "cell_type": "code",
   "execution_count": null,
   "metadata": {},
   "outputs": [],
   "source": [
    "combined_r2i[\"ci_pos_shaps\"] = combined_r2i[\"final_shaps_mean\"]+combined_r2i[\"final_shaps_ci\"]\n",
    "combined_r2i[\"ci_neg_shaps\"] = combined_r2i[\"final_shaps_mean\"]-combined_r2i[\"final_shaps_ci\"]\n",
    "combined_r2i[\"ci_pos_ours\"] = combined_r2i[\"our_k_inputs_mean\"]+combined_r2i[\"our_k_inputs_ci\"]\n",
    "combined_r2i[\"ci_neg_ours\"] = combined_r2i[\"our_k_inputs_mean\"]-combined_r2i[\"our_k_inputs_ci\"]\n",
    "\n",
    "combined_i2r[\"ci_pos_shaps\"] = combined_i2r[\"final_shaps_mean\"]+combined_i2r[\"final_shaps_ci\"]\n",
    "combined_i2r[\"ci_neg_shaps\"] = combined_i2r[\"final_shaps_mean\"]-combined_i2r[\"final_shaps_ci\"]\n",
    "combined_i2r[\"ci_pos_ours\"] = combined_i2r[\"our_k_inputs_mean\"]+combined_i2r[\"our_k_inputs_ci\"]\n",
    "combined_i2r[\"ci_neg_ours\"] = combined_i2r[\"our_k_inputs_mean\"]-combined_i2r[\"our_k_inputs_ci\"]"
   ]
  },
  {
   "cell_type": "code",
   "execution_count": null,
   "metadata": {},
   "outputs": [],
   "source": [
    "sns.set_style(\"whitegrid\")\n",
    "BIGGER_SIZE = 16\n",
    "plt.rc('font', size=BIGGER_SIZE)\n",
    "plt.rc('axes', labelsize=BIGGER_SIZE)\n",
    "plt.rc('xtick', labelsize=BIGGER_SIZE)\n",
    "plt.rc('ytick', labelsize=BIGGER_SIZE)\n",
    "plt.rc('figure', titlesize=BIGGER_SIZE)\n",
    "\n",
    "g = sns.FacetGrid(combined_r2i, col=\"dataset\")\n",
    "\n",
    "g.map(plt.plot, \"Cardinality\", \"final_shaps_mean\", color='slateblue', linewidth=3, label='SHAP')\n",
    "g.map(plt.fill_between, \"Cardinality\", \"ci_neg_shaps\", \"ci_pos_shaps\", color='slateblue', alpha=0.3)\n",
    "g.map(plt.plot, \"Cardinality\", \"our_k_inputs_mean\", color='orange', linewidth=3, label=r'$\\bf{LENS}$')\n",
    "g.map(plt.fill_between, \"Cardinality\", \"ci_neg_ours\", \"ci_pos_ours\", color='orange', alpha=0.3)\n",
    "g.set(ylabel=\"Degree\")\n",
    "for ax in g.axes.flat:\n",
    "    if ax.get_title():\n",
    "        ax.set_title(\" \".join([x.split(\"=\")[1] for x in ax.get_title().split('|')]),fontweight=\"bold\")\n",
    "    if ax.texts:\n",
    "        ax.texts[0].remove()\n",
    "        \n",
    "    # Make x and y-axis labels slightly larger\n",
    "    ax.set_xlabel(ax.get_xlabel())\n",
    "    ax.set_xticks(list(range(1,10)))\n",
    "\n",
    "        \n",
    "g.add_legend()\n",
    "plt.savefig(\"out/credit_spam_shap_r2i.png\", dpi=200, bbox_inches='tight')\n",
    "plt.show()\n"
   ]
  },
  {
   "cell_type": "code",
   "execution_count": null,
   "metadata": {},
   "outputs": [],
   "source": [
    "sns.set_style(\"whitegrid\")\n",
    "BIGGER_SIZE = 16\n",
    "plt.rc('font', size=BIGGER_SIZE)\n",
    "plt.rc('axes', labelsize=BIGGER_SIZE)\n",
    "plt.rc('xtick', labelsize=BIGGER_SIZE)\n",
    "plt.rc('ytick', labelsize=BIGGER_SIZE)\n",
    "plt.rc('figure', titlesize=BIGGER_SIZE)\n",
    "\n",
    "g = sns.FacetGrid(combined_i2r, col=\"dataset\")\n",
    "\n",
    "g.map(plt.plot, \"Cardinality\", \"final_shaps_mean\", color='slateblue', linewidth=3, label='SHAP')\n",
    "g.map(plt.fill_between, \"Cardinality\", \"ci_neg_shaps\", \"ci_pos_shaps\", color='slateblue', alpha=0.3)\n",
    "g.map(plt.plot, \"Cardinality\", \"our_k_inputs_mean\", color='orange', linewidth=3, label=r'$\\bf{LENS}$')\n",
    "g.map(plt.fill_between, \"Cardinality\", \"ci_neg_ours\", \"ci_pos_ours\", color='orange', alpha=0.3)\n",
    "g.set(ylabel=\"Degree\")\n",
    "for ax in g.axes.flat:\n",
    "    if ax.get_title():\n",
    "        ax.set_title(\" \".join([x.split(\"=\")[1] for x in ax.get_title().split('|')]),fontweight=\"bold\")\n",
    "    if ax.texts:\n",
    "        ax.texts[0].remove()\n",
    "    ax.set_xlabel(ax.get_xlabel())\n",
    "    ax.set_xticks(list(range(1,10)))\n",
    "\n",
    "        \n",
    "g.add_legend()\n",
    "plt.savefig(\"out/credit_spam_shap_i2r.png\", dpi=200, bbox_inches='tight')\n",
    "plt.show()\n"
   ]
  },
  {
   "cell_type": "markdown",
   "metadata": {},
   "source": [
    "### Anchors comparison"
   ]
  },
  {
   "cell_type": "code",
   "execution_count": null,
   "metadata": {},
   "outputs": [],
   "source": [
    "num_inp = 100\n",
    "deg_thresh = 0.9\n",
    "all_inp_deg, anchors_df = anchors_comp.anchors_card_prec_comp(german_cred_df, clf, num_features,\n",
    "                       \"dataset.outcome != inp_i.outcome.item()\", num_inp=num_inp, deg_thresh=deg_thresh)"
   ]
  },
  {
   "cell_type": "code",
   "execution_count": null,
   "metadata": {},
   "outputs": [],
   "source": [
    "anchors_comp.plt_degree_anchors_comp(all_inp_deg, anchors_df, num_inp, type='min', shape='boxplot', tau=deg_thresh)"
   ]
  },
  {
   "cell_type": "code",
   "execution_count": null,
   "metadata": {},
   "outputs": [],
   "source": [
    "anchors_comp.plt_degree_anchors_comp(all_inp_deg, anchors_df, num_inp, type='mean', shape='boxplot', tau=deg_thresh)"
   ]
  },
  {
   "cell_type": "code",
   "execution_count": null,
   "metadata": {},
   "outputs": [],
   "source": [
    "anchors_comp.plt_degree_anchors_comp(all_inp_deg, anchors_df, num_inp, type='max', shape='boxplot', tau=deg_thresh)"
   ]
  },
  {
   "cell_type": "code",
   "execution_count": null,
   "metadata": {},
   "outputs": [],
   "source": []
  }
 ],
 "metadata": {
  "kernelspec": {
   "display_name": "lens_temp",
   "language": "python",
   "name": "lens_temp"
  },
  "language_info": {
   "codemirror_mode": {
    "name": "ipython",
    "version": 3
   },
   "file_extension": ".py",
   "mimetype": "text/x-python",
   "name": "python",
   "nbconvert_exporter": "python",
   "pygments_lexer": "ipython3",
   "version": "3.11.8"
  }
 },
 "nbformat": 4,
 "nbformat_minor": 4
}
