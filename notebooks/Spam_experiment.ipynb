{
 "cells": [
  {
   "cell_type": "code",
   "execution_count": 1,
   "metadata": {},
   "outputs": [],
   "source": [
    "%load_ext autoreload\n",
    "%autoreload 2\n",
    "import warnings\n",
    "warnings.filterwarnings('ignore')\n",
    "import pandas as pd\n",
    "import numpy as np\n",
    "import sklearn\n",
    "import torch\n",
    "import os\n",
    "import re\n",
    "from os import listdir\n",
    "from os.path import isfile, join\n",
    "from bs4 import BeautifulSoup\n",
    "import nltk\n",
    "from nltk.corpus import stopwords\n",
    "from sklearn.neural_network import MLPClassifier\n",
    "from sklearn.model_selection import train_test_split\n",
    "from matplotlib import pyplot as plt \n",
    "import shap\n",
    "from sklearn.metrics import accuracy_score\n",
    "nltk.download(\"stopwords\", quiet=True)\n",
    "import sys; sys.path.insert(0, '../src/')\n",
    "import necsuf_tabular_text as nec_suf\n",
    "import cum_shp_plot\n",
    "import model_weakness_spam"
   ]
  },
  {
   "cell_type": "code",
   "execution_count": 2,
   "metadata": {},
   "outputs": [],
   "source": [
    "df = pd.read_csv(\"../datasets/spam_clean_str.csv\")\n",
    "df.drop([\"Unnamed: 0\"], axis=1, inplace=True)"
   ]
  },
  {
   "cell_type": "markdown",
   "metadata": {},
   "source": [
    "## Intialization: data loading"
   ]
  },
  {
   "cell_type": "code",
   "execution_count": 3,
   "metadata": {},
   "outputs": [],
   "source": [
    "df_for_classification = pd.read_csv(\"../datasets/spam_for_classification.csv\")\n",
    "df_for_classification.drop([\"Unnamed: 0\"], axis=1, inplace=True)\n",
    "for c in df_for_classification.columns:\n",
    "    df_for_classification[c] = df_for_classification[c].apply(lambda x: np.array(eval(x)) if not isinstance(x, int) else x)"
   ]
  },
  {
   "cell_type": "markdown",
   "metadata": {},
   "source": [
    "### Train NN on top of spam dataset"
   ]
  },
  {
   "cell_type": "code",
   "execution_count": 4,
   "metadata": {},
   "outputs": [],
   "source": [
    "df_for_classification_flat = pd.read_csv(\"../datasets/spam_for_classification_flat.csv\")\n",
    "df_for_classification_flat.drop([\"Unnamed: 0\"], axis=1, inplace=True)"
   ]
  },
  {
   "cell_type": "code",
   "execution_count": 5,
   "metadata": {},
   "outputs": [],
   "source": [
    "X_vectors,y_vectors = np.array(df_for_classification_flat.iloc[:, :-1]), np.array(df_for_classification_flat.iloc[:, -1])\n",
    "\n",
    "X_train_vectors, X_test_vectors, y_train_vectors, y_test_vectors = \\\n",
    "    sklearn.model_selection.train_test_split(X_vectors, y_vectors, test_size=.2, random_state=42)"
   ]
  },
  {
   "cell_type": "code",
   "execution_count": 6,
   "metadata": {},
   "outputs": [
    {
     "data": {
      "text/plain": [
       "0.9831081081081081"
      ]
     },
     "execution_count": 6,
     "metadata": {},
     "output_type": "execute_result"
    }
   ],
   "source": [
    "clf = MLPClassifier(random_state=1, max_iter=300).fit(X_train_vectors, y_train_vectors)\n",
    "clf.score(X_test_vectors, y_test_vectors)"
   ]
  },
  {
   "cell_type": "code",
   "execution_count": 7,
   "metadata": {},
   "outputs": [],
   "source": [
    "preds = df_for_classification_flat.apply(lambda x: clf.predict(x.iloc[:-1].values.reshape(1, -1))[0], axis=1)\n",
    "df_for_classification_flat['Model_pred'] = preds\n",
    "df_for_classification['Model_pred'] = preds"
   ]
  },
  {
   "cell_type": "markdown",
   "metadata": {},
   "source": [
    "### choose inp"
   ]
  },
  {
   "cell_type": "code",
   "execution_count": 8,
   "metadata": {},
   "outputs": [
    {
     "data": {
      "text/html": [
       "<div>\n",
       "<style scoped>\n",
       "    .dataframe tbody tr th:only-of-type {\n",
       "        vertical-align: middle;\n",
       "    }\n",
       "\n",
       "    .dataframe tbody tr th {\n",
       "        vertical-align: top;\n",
       "    }\n",
       "\n",
       "    .dataframe thead th {\n",
       "        text-align: right;\n",
       "    }\n",
       "</style>\n",
       "<table border=\"1\" class=\"dataframe\">\n",
       "  <thead>\n",
       "    <tr style=\"text-align: right;\">\n",
       "      <th></th>\n",
       "      <th>From</th>\n",
       "      <th>To</th>\n",
       "      <th>Subject</th>\n",
       "      <th>save_urls</th>\n",
       "      <th>save_emailsadd</th>\n",
       "      <th>first_sent</th>\n",
       "      <th>second_sent</th>\n",
       "      <th>penult_sent</th>\n",
       "      <th>last_sent</th>\n",
       "      <th>outcome</th>\n",
       "    </tr>\n",
       "  </thead>\n",
       "  <tbody>\n",
       "    <tr>\n",
       "      <th>998</th>\n",
       "      <td>barrister johnson akerele   adewale1 mail com</td>\n",
       "      <td>cypherpunks einstein ssz com  cypherpunks ein...</td>\n",
       "      <td>request assistance</td>\n",
       "      <td>http thinkgeek com sf https lists sourceforge ...</td>\n",
       "      <td>spamassassin sightings lists sourceforge net</td>\n",
       "      <td>barrister adewale coker chambers</td>\n",
       "      <td>legal practitioners notary public</td>\n",
       "      <td>welcome geek heaven</td>\n",
       "      <td>spamassassin sightings mailing list</td>\n",
       "      <td>1</td>\n",
       "    </tr>\n",
       "  </tbody>\n",
       "</table>\n",
       "</div>"
      ],
      "text/plain": [
       "                                                 From  \\\n",
       "998    barrister johnson akerele   adewale1 mail com    \n",
       "\n",
       "                                                    To              Subject  \\\n",
       "998   cypherpunks einstein ssz com  cypherpunks ein...   request assistance   \n",
       "\n",
       "                                             save_urls  \\\n",
       "998  http thinkgeek com sf https lists sourceforge ...   \n",
       "\n",
       "                                   save_emailsadd  \\\n",
       "998  spamassassin sightings lists sourceforge net   \n",
       "\n",
       "                            first_sent                         second_sent  \\\n",
       "998  barrister adewale coker chambers   legal practitioners notary public    \n",
       "\n",
       "              penult_sent                             last_sent outcome  \n",
       "998  welcome geek heaven   spamassassin sightings mailing list        1  "
      ]
     },
     "execution_count": 8,
     "metadata": {},
     "output_type": "execute_result"
    }
   ],
   "source": [
    "## 998 is just a random example instance\n",
    "inp_raw = pd.DataFrame(df.iloc[998]).T\n",
    "inp_raw"
   ]
  },
  {
   "cell_type": "code",
   "execution_count": 9,
   "metadata": {},
   "outputs": [],
   "source": [
    "inp_vectors = pd.DataFrame(df_for_classification.iloc[998]).T\n",
    "num_features = len(inp_vectors.columns[:-2])"
   ]
  },
  {
   "cell_type": "code",
   "execution_count": 10,
   "metadata": {},
   "outputs": [],
   "source": [
    "inp_final_rep = pd.DataFrame(df_for_classification_flat.iloc[998]).T"
   ]
  },
  {
   "cell_type": "code",
   "execution_count": 11,
   "metadata": {},
   "outputs": [
    {
     "data": {
      "text/plain": [
       "array([1])"
      ]
     },
     "execution_count": 11,
     "metadata": {},
     "output_type": "execute_result"
    }
   ],
   "source": [
    "f_inp = clf.predict(inp_final_rep.iloc[:, :-2])\n",
    "f_inp"
   ]
  },
  {
   "cell_type": "markdown",
   "metadata": {},
   "source": [
    "### Ref choice"
   ]
  },
  {
   "cell_type": "markdown",
   "metadata": {},
   "source": [
    "The non-categorical nature of these features necessitates a little more careful translation from user query to selection criteria from dataset"
   ]
  },
  {
   "cell_type": "code",
   "execution_count": 12,
   "metadata": {},
   "outputs": [],
   "source": [
    "# this is an example of how to use more involved selection criteria, but we do not pursue it below\n",
    "relevant_1 = df_for_classification[df_for_classification.outcome != inp_vectors.outcome.item()]\n",
    "\n",
    "chosen_ind = nec_suf.close_or_distant_neighbours(relevant_1, inp_vectors, 'From_glv_vec', like=True, perc=0.1);"
   ]
  },
  {
   "cell_type": "markdown",
   "metadata": {},
   "source": [
    "### Example: identifying minimal sufficient factors + necessity scores for all references of opposite outcome from inp"
   ]
  },
  {
   "cell_type": "code",
   "execution_count": 13,
   "metadata": {},
   "outputs": [],
   "source": [
    "CF_condition_1 = df_for_classification.outcome != inp_vectors.outcome.item()\n",
    "# CF_condition_1_raw = df_just_str.outcome != inp_raw_just_str.outcome.item()\n",
    "CF_r2i, CF_i2r, \\\n",
    "CF_i2r_raw_text, refs = nec_suf.suff_nec_pipeline(CF_condition_1, inp_vectors, \n",
    "                                        clf, df_for_classification, num_features,\n",
    "                                        datatype='Text', inp_raw=inp_raw, dataset_raw=df, predict=True)"
   ]
  },
  {
   "cell_type": "code",
   "execution_count": 14,
   "metadata": {},
   "outputs": [
    {
     "name": "stdout",
     "output_type": "stream",
     "text": [
      "##################\n",
      "Sufficiency R2I\n",
      "##################\n",
      "------------------\n",
      "necessity score:  0.42052961924288484\n",
      "------------------\n"
     ]
    },
    {
     "data": {
      "text/html": [
       "<div>\n",
       "<style scoped>\n",
       "    .dataframe tbody tr th:only-of-type {\n",
       "        vertical-align: middle;\n",
       "    }\n",
       "\n",
       "    .dataframe tbody tr th {\n",
       "        vertical-align: top;\n",
       "    }\n",
       "\n",
       "    .dataframe thead th {\n",
       "        text-align: right;\n",
       "    }\n",
       "</style>\n",
       "<table border=\"1\" class=\"dataframe\">\n",
       "  <thead>\n",
       "    <tr style=\"text-align: right;\">\n",
       "      <th></th>\n",
       "      <th>subset</th>\n",
       "      <th>degree</th>\n",
       "      <th>string</th>\n",
       "      <th>cardinality</th>\n",
       "      <th>cost</th>\n",
       "    </tr>\n",
       "  </thead>\n",
       "  <tbody>\n",
       "    <tr>\n",
       "      <th>135</th>\n",
       "      <td>[0, 1, 2, 8]</td>\n",
       "      <td>0.665882</td>\n",
       "      <td>From   barrister johnson akerele   adewale1 ma...</td>\n",
       "      <td>4</td>\n",
       "      <td>11.655064</td>\n",
       "    </tr>\n",
       "    <tr>\n",
       "      <th>188</th>\n",
       "      <td>[1, 2, 3, 6]</td>\n",
       "      <td>0.705882</td>\n",
       "      <td>To     cypherpunks einstein ssz com  cypherpun...</td>\n",
       "      <td>4</td>\n",
       "      <td>12.339939</td>\n",
       "    </tr>\n",
       "    <tr>\n",
       "      <th>133</th>\n",
       "      <td>[0, 1, 2, 6]</td>\n",
       "      <td>0.683529</td>\n",
       "      <td>From     barrister johnson akerele   adewale1 ...</td>\n",
       "      <td>4</td>\n",
       "      <td>12.585011</td>\n",
       "    </tr>\n",
       "    <tr>\n",
       "      <th>288</th>\n",
       "      <td>[0, 1, 5, 6, 8]</td>\n",
       "      <td>0.690196</td>\n",
       "      <td>From     barrister johnson akerele   adewale1 ...</td>\n",
       "      <td>5</td>\n",
       "      <td>12.923916</td>\n",
       "    </tr>\n",
       "    <tr>\n",
       "      <th>199</th>\n",
       "      <td>[1, 2, 6, 8]</td>\n",
       "      <td>0.917647</td>\n",
       "      <td>To     cypherpunks einstein ssz com  cypherpun...</td>\n",
       "      <td>4</td>\n",
       "      <td>13.624824</td>\n",
       "    </tr>\n",
       "    <tr>\n",
       "      <th>411</th>\n",
       "      <td>[0, 1, 3, 6, 7, 8]</td>\n",
       "      <td>0.669804</td>\n",
       "      <td>From     barrister johnson akerele   adewale1 ...</td>\n",
       "      <td>6</td>\n",
       "      <td>13.667344</td>\n",
       "    </tr>\n",
       "    <tr>\n",
       "      <th>197</th>\n",
       "      <td>[1, 2, 5, 8]</td>\n",
       "      <td>0.703137</td>\n",
       "      <td>To    cypherpunks einstein ssz com  cypherpunk...</td>\n",
       "      <td>4</td>\n",
       "      <td>13.767126</td>\n",
       "    </tr>\n",
       "    <tr>\n",
       "      <th>198</th>\n",
       "      <td>[1, 2, 6, 7]</td>\n",
       "      <td>0.694118</td>\n",
       "      <td>To     cypherpunks einstein ssz com  cypherpun...</td>\n",
       "      <td>4</td>\n",
       "      <td>14.085028</td>\n",
       "    </tr>\n",
       "    <tr>\n",
       "      <th>406</th>\n",
       "      <td>[0, 1, 3, 4, 6, 8]</td>\n",
       "      <td>0.691765</td>\n",
       "      <td>From     barrister johnson akerele   adewale1 ...</td>\n",
       "      <td>6</td>\n",
       "      <td>14.492979</td>\n",
       "    </tr>\n",
       "    <tr>\n",
       "      <th>335</th>\n",
       "      <td>[1, 2, 3, 7, 8]</td>\n",
       "      <td>0.745490</td>\n",
       "      <td>To     cypherpunks einstein ssz com  cypherpun...</td>\n",
       "      <td>5</td>\n",
       "      <td>14.555687</td>\n",
       "    </tr>\n",
       "  </tbody>\n",
       "</table>\n",
       "</div>"
      ],
      "text/plain": [
       "                 subset    degree  \\\n",
       "135        [0, 1, 2, 8]  0.665882   \n",
       "188        [1, 2, 3, 6]  0.705882   \n",
       "133        [0, 1, 2, 6]  0.683529   \n",
       "288     [0, 1, 5, 6, 8]  0.690196   \n",
       "199        [1, 2, 6, 8]  0.917647   \n",
       "411  [0, 1, 3, 6, 7, 8]  0.669804   \n",
       "197        [1, 2, 5, 8]  0.703137   \n",
       "198        [1, 2, 6, 7]  0.694118   \n",
       "406  [0, 1, 3, 4, 6, 8]  0.691765   \n",
       "335     [1, 2, 3, 7, 8]  0.745490   \n",
       "\n",
       "                                                string  cardinality       cost  \n",
       "135  From   barrister johnson akerele   adewale1 ma...            4  11.655064  \n",
       "188  To     cypherpunks einstein ssz com  cypherpun...            4  12.339939  \n",
       "133  From     barrister johnson akerele   adewale1 ...            4  12.585011  \n",
       "288  From     barrister johnson akerele   adewale1 ...            5  12.923916  \n",
       "199  To     cypherpunks einstein ssz com  cypherpun...            4  13.624824  \n",
       "411  From     barrister johnson akerele   adewale1 ...            6  13.667344  \n",
       "197  To    cypherpunks einstein ssz com  cypherpunk...            4  13.767126  \n",
       "198  To     cypherpunks einstein ssz com  cypherpun...            4  14.085028  \n",
       "406  From     barrister johnson akerele   adewale1 ...            6  14.492979  \n",
       "335  To     cypherpunks einstein ssz com  cypherpun...            5  14.555687  "
      ]
     },
     "execution_count": 14,
     "metadata": {},
     "output_type": "execute_result"
    }
   ],
   "source": [
    "print(\"##################\")\n",
    "print(\"Sufficiency R2I\")\n",
    "print(\"##################\")\n",
    "CF_df_deg_r2i = nec_suf.deg_nec_suff(CF_r2i, inp_raw, f_inp, clf, num_features, r2i=True, pred_on_fly=False, deg_thresh=0)\n",
    "\n",
    "sub_df_filtered_r2i = nec_suf.filter_by_degree_and_overalp(CF_df_deg_r2i, degree_thresh=0.65, subset_max_num=10)\n",
    "print(\"------------------\")\n",
    "print(\"necessity score: \", nec_suf.recall_nec_score(CF_r2i, sub_df_filtered_r2i, f_inp))\n",
    "print(\"------------------\")\n",
    "sub_df_filtered_r2i"
   ]
  },
  {
   "cell_type": "code",
   "execution_count": 15,
   "metadata": {},
   "outputs": [
    {
     "name": "stdout",
     "output_type": "stream",
     "text": [
      "##################\n",
      "Sufficiency I2R\n",
      "##################\n",
      "------------------\n",
      "necessity score:  0.3490037719549374\n",
      "------------------\n"
     ]
    },
    {
     "data": {
      "text/html": [
       "<div>\n",
       "<style scoped>\n",
       "    .dataframe tbody tr th:only-of-type {\n",
       "        vertical-align: middle;\n",
       "    }\n",
       "\n",
       "    .dataframe tbody tr th {\n",
       "        vertical-align: top;\n",
       "    }\n",
       "\n",
       "    .dataframe thead th {\n",
       "        text-align: right;\n",
       "    }\n",
       "</style>\n",
       "<table border=\"1\" class=\"dataframe\">\n",
       "  <thead>\n",
       "    <tr style=\"text-align: right;\">\n",
       "      <th></th>\n",
       "      <th>subset</th>\n",
       "      <th>degree</th>\n",
       "      <th>string</th>\n",
       "      <th>cardinality</th>\n",
       "      <th>cost</th>\n",
       "    </tr>\n",
       "  </thead>\n",
       "  <tbody>\n",
       "    <tr>\n",
       "      <th>215</th>\n",
       "      <td>[1, 4, 6, 8]</td>\n",
       "      <td>0.903922</td>\n",
       "      <td>To     yyyy localhost netnoteinc com  spamassa...</td>\n",
       "      <td>4</td>\n",
       "      <td>6.458990</td>\n",
       "    </tr>\n",
       "    <tr>\n",
       "      <th>190</th>\n",
       "      <td>[1, 2, 3, 8]</td>\n",
       "      <td>0.927059</td>\n",
       "      <td>To   yyyy localhost example com  craig hughes ...</td>\n",
       "      <td>4</td>\n",
       "      <td>7.009566</td>\n",
       "    </tr>\n",
       "    <tr>\n",
       "      <th>77</th>\n",
       "      <td>[1, 2, 6]</td>\n",
       "      <td>0.916863</td>\n",
       "      <td>To     zzzz localhost netnoteinc com  fork exa...</td>\n",
       "      <td>3</td>\n",
       "      <td>7.976747</td>\n",
       "    </tr>\n",
       "    <tr>\n",
       "      <th>194</th>\n",
       "      <td>[1, 2, 4, 8]</td>\n",
       "      <td>0.930588</td>\n",
       "      <td>To     yyyy localhost netnoteinc com  theo van...</td>\n",
       "      <td>4</td>\n",
       "      <td>8.483268</td>\n",
       "    </tr>\n",
       "    <tr>\n",
       "      <th>409</th>\n",
       "      <td>[0, 1, 3, 5, 6, 8]</td>\n",
       "      <td>0.907843</td>\n",
       "      <td>From      daniel rogers  rogersd nanaimo islan...</td>\n",
       "      <td>6</td>\n",
       "      <td>9.060826</td>\n",
       "    </tr>\n",
       "    <tr>\n",
       "      <th>267</th>\n",
       "      <td>[0, 1, 2, 5, 8]</td>\n",
       "      <td>0.927843</td>\n",
       "      <td>From     daniel rogers  rogersd nanaimo island...</td>\n",
       "      <td>5</td>\n",
       "      <td>10.797772</td>\n",
       "    </tr>\n",
       "    <tr>\n",
       "      <th>382</th>\n",
       "      <td>[0, 1, 2, 3, 4, 5]</td>\n",
       "      <td>0.921961</td>\n",
       "      <td>From      daniel rogers  rogersd nanaimo islan...</td>\n",
       "      <td>6</td>\n",
       "      <td>11.965981</td>\n",
       "    </tr>\n",
       "    <tr>\n",
       "      <th>491</th>\n",
       "      <td>[0, 2, 3, 5, 6, 7, 8]</td>\n",
       "      <td>0.917647</td>\n",
       "      <td>From      daniel rogers  rogersd nanaimo islan...</td>\n",
       "      <td>7</td>\n",
       "      <td>12.634626</td>\n",
       "    </tr>\n",
       "    <tr>\n",
       "      <th>428</th>\n",
       "      <td>[0, 2, 4, 5, 6, 8]</td>\n",
       "      <td>0.907059</td>\n",
       "      <td>From      daniel rogers  rogersd nanaimo islan...</td>\n",
       "      <td>6</td>\n",
       "      <td>14.119186</td>\n",
       "    </tr>\n",
       "  </tbody>\n",
       "</table>\n",
       "</div>"
      ],
      "text/plain": [
       "                    subset    degree  \\\n",
       "215           [1, 4, 6, 8]  0.903922   \n",
       "190           [1, 2, 3, 8]  0.927059   \n",
       "77               [1, 2, 6]  0.916863   \n",
       "194           [1, 2, 4, 8]  0.930588   \n",
       "409     [0, 1, 3, 5, 6, 8]  0.907843   \n",
       "267        [0, 1, 2, 5, 8]  0.927843   \n",
       "382     [0, 1, 2, 3, 4, 5]  0.921961   \n",
       "491  [0, 2, 3, 5, 6, 7, 8]  0.917647   \n",
       "428     [0, 2, 4, 5, 6, 8]  0.907059   \n",
       "\n",
       "                                                string  cardinality       cost  \n",
       "215  To     yyyy localhost netnoteinc com  spamassa...            4   6.458990  \n",
       "190  To   yyyy localhost example com  craig hughes ...            4   7.009566  \n",
       "77   To     zzzz localhost netnoteinc com  fork exa...            3   7.976747  \n",
       "194  To     yyyy localhost netnoteinc com  theo van...            4   8.483268  \n",
       "409  From      daniel rogers  rogersd nanaimo islan...            6   9.060826  \n",
       "267  From     daniel rogers  rogersd nanaimo island...            5  10.797772  \n",
       "382  From      daniel rogers  rogersd nanaimo islan...            6  11.965981  \n",
       "491  From      daniel rogers  rogersd nanaimo islan...            7  12.634626  \n",
       "428  From      daniel rogers  rogersd nanaimo islan...            6  14.119186  "
      ]
     },
     "execution_count": 15,
     "metadata": {},
     "output_type": "execute_result"
    }
   ],
   "source": [
    "print(\"##################\")\n",
    "print(\"Sufficiency I2R\")\n",
    "print(\"##################\")\n",
    "CF_df_deg_i2r = nec_suf.deg_nec_suff(CF_i2r, inp_raw, f_inp, clf, num_features,\n",
    "                                     r2i=False, CF_i2r_raw_text=CF_i2r_raw_text, pred_on_fly=False, deg_thresh=0)\n",
    "sub_df_filtered_i2r = nec_suf.filter_by_degree_and_overalp(CF_df_deg_i2r, degree_thresh=0.9, subset_max_num=10)\n",
    "print(\"------------------\")\n",
    "print(\"necessity score: \", nec_suf.recall_nec_score(CF_i2r, sub_df_filtered_i2r, f_inp, r2i=False))\n",
    "print(\"------------------\")\n",
    "sub_df_filtered_i2r"
   ]
  },
  {
   "cell_type": "markdown",
   "metadata": {},
   "source": [
    "### SHAP comparison"
   ]
  },
  {
   "cell_type": "code",
   "execution_count": 16,
   "metadata": {},
   "outputs": [],
   "source": [
    "CF_condition_string = \"dataset.outcome != inp_i.outcome.item()\"\n",
    "all_inp_deg_r2i, all_inp_deg_i2r, all_shaps = \\\n",
    "    cum_shp_plot.cumul_shap_vs_us_multi_input(df_for_classification, clf, CF_condition_string, \n",
    "                                    num_features, num_inp=25, datatype='Text', \n",
    "                                    df_flattened=df_for_classification_flat)"
   ]
  },
  {
   "cell_type": "code",
   "execution_count": 17,
   "metadata": {},
   "outputs": [
    {
     "data": {
      "image/png": "[encoded data removed]",
      "text/plain": [
       "<Figure size 432x288 with 1 Axes>"
      ]
     },
     "metadata": {
      "needs_background": "light"
     },
     "output_type": "display_data"
    },
    {
     "data": {
      "image/png": "[encoded data removed]",
      "text/plain": [
       "<Figure size 432x288 with 1 Axes>"
      ]
     },
     "metadata": {
      "needs_background": "light"
     },
     "output_type": "display_data"
    }
   ],
   "source": [
    "cum_shp_plot.mean_and_plot(all_inp_deg_r2i, all_shaps, title_name='sufficiency r2i', dataset_name='spam')\n",
    "cum_shp_plot.mean_and_plot(all_inp_deg_i2r, all_shaps, title_name='sufficiency i2r', dataset_name='spam')"
   ]
  },
  {
   "cell_type": "markdown",
   "metadata": {},
   "source": [
    "### Adverserial Example"
   ]
  },
  {
   "cell_type": "code",
   "execution_count": 18,
   "metadata": {},
   "outputs": [
    {
     "data": {
      "text/html": [
       "<div>\n",
       "<style scoped>\n",
       "    .dataframe tbody tr th:only-of-type {\n",
       "        vertical-align: middle;\n",
       "    }\n",
       "\n",
       "    .dataframe tbody tr th {\n",
       "        vertical-align: top;\n",
       "    }\n",
       "\n",
       "    .dataframe thead th {\n",
       "        text-align: right;\n",
       "    }\n",
       "</style>\n",
       "<table border=\"1\" class=\"dataframe\">\n",
       "  <thead>\n",
       "    <tr style=\"text-align: right;\">\n",
       "      <th></th>\n",
       "      <th>From</th>\n",
       "      <th>To</th>\n",
       "      <th>Subject</th>\n",
       "      <th>save_urls</th>\n",
       "      <th>save_emailsadd</th>\n",
       "      <th>first_sent</th>\n",
       "      <th>second_sent</th>\n",
       "      <th>penult_sent</th>\n",
       "      <th>last_sent</th>\n",
       "      <th>outcome</th>\n",
       "    </tr>\n",
       "  </thead>\n",
       "  <tbody>\n",
       "    <tr>\n",
       "      <th>1249</th>\n",
       "      <td>jourdain   kir 31 yahoo com</td>\n",
       "      <td>yyyy njcc com   yyyy net1plus com   yyyy new...</td>\n",
       "      <td>hi joseph  personal information wanted p</td>\n",
       "      <td>NaN</td>\n",
       "      <td>name domain com please</td>\n",
       "      <td>request</td>\n",
       "      <td>free loan evaluation</td>\n",
       "      <td>allow hours email address remo</td>\n",
       "      <td>ved</td>\n",
       "      <td>1</td>\n",
       "    </tr>\n",
       "    <tr>\n",
       "      <th>1054</th>\n",
       "      <td>resumevalet   info resumevalet com</td>\n",
       "      <td>yyyy cv spamassassin taint org</td>\n",
       "      <td>adv  put resume back work</td>\n",
       "      <td>http www resumevalet com http www resumevalet com</td>\n",
       "      <td>NaN</td>\n",
       "      <td>dear candidate</td>\n",
       "      <td>recently came across posting resume internet</td>\n",
       "      <td>copyright</td>\n",
       "      <td>professionals online network inc</td>\n",
       "      <td>1</td>\n",
       "    </tr>\n",
       "    <tr>\n",
       "      <th>1744</th>\n",
       "      <td>issac  abner earthlink net</td>\n",
       "      <td>yyyy localhost netnoteinc com   recipient net...</td>\n",
       "      <td>telecom consolidation begins accelerate  owwra</td>\n",
       "      <td>NaN</td>\n",
       "      <td>NaN</td>\n",
       "      <td>igtt</td>\n",
       "      <td>vol</td>\n",
       "      <td>NaN</td>\n",
       "      <td>ikxrkobewgotpevemtbokjgssytdinm</td>\n",
       "      <td>1</td>\n",
       "    </tr>\n",
       "    <tr>\n",
       "      <th>1749</th>\n",
       "      <td>jacqui devito   goodroughy ananzi co za</td>\n",
       "      <td>picone linux midrange com</td>\n",
       "      <td>enlargement breakthrough                     ...</td>\n",
       "      <td>NaN</td>\n",
       "      <td>NaN</td>\n",
       "      <td>recent survey conducted</td>\n",
       "      <td>durex</td>\n",
       "      <td>olutionary pill developed world famous pharmac...</td>\n",
       "      <td>ncrease size enter detailsto come open</td>\n",
       "      <td>1</td>\n",
       "    </tr>\n",
       "    <tr>\n",
       "      <th>1461</th>\n",
       "      <td>sue   gort44 excite com</td>\n",
       "      <td>yyyy localhost netnoteinc com   ameritex netway</td>\n",
       "      <td>build great future</td>\n",
       "      <td>http www page4life org users 69chevelle  http ...</td>\n",
       "      <td>NaN</td>\n",
       "      <td>easy return</td>\n",
       "      <td>learn receive monthly check</td>\n",
       "      <td>opt</td>\n",
       "      <td>please go opt website</td>\n",
       "      <td>1</td>\n",
       "    </tr>\n",
       "    <tr>\n",
       "      <th>1727</th>\n",
       "      <td>rose xu email com</td>\n",
       "      <td>yyyyac idt net</td>\n",
       "      <td>adv harvest lots target email address quickly</td>\n",
       "      <td>http www wldinfo com download email ese zip ht...</td>\n",
       "      <td>NaN</td>\n",
       "      <td>want</td>\n",
       "      <td>harvest lot target email</td>\n",
       "      <td>line adv provide notification commercial</td>\n",
       "      <td>advertisement persons 18yrs old</td>\n",
       "      <td>1</td>\n",
       "    </tr>\n",
       "    <tr>\n",
       "      <th>596</th>\n",
       "      <td>garry   gstechs fastmail fm</td>\n",
       "      <td>yyyy localhost netnoteinc com  fork spamassas...</td>\n",
       "      <td>greetings calif</td>\n",
       "      <td>http xent com mailman listinfo fork</td>\n",
       "      <td>NaN</td>\n",
       "      <td>want make million bucks year</td>\n",
       "      <td>probably going happen</td>\n",
       "      <td>personally speak within hours</td>\n",
       "      <td>removed mailing list please type remove subjec...</td>\n",
       "      <td>1</td>\n",
       "    </tr>\n",
       "  </tbody>\n",
       "</table>\n",
       "</div>"
      ],
      "text/plain": [
       "                                            From  \\\n",
       "1249                jourdain   kir 31 yahoo com    \n",
       "1054         resumevalet   info resumevalet com    \n",
       "1744                 issac  abner earthlink net    \n",
       "1749    jacqui devito   goodroughy ananzi co za    \n",
       "1461                    sue   gort44 excite com    \n",
       "1727                           rose xu email com   \n",
       "596                 garry   gstechs fastmail fm    \n",
       "\n",
       "                                                     To  \\\n",
       "1249    yyyy njcc com   yyyy net1plus com   yyyy new...   \n",
       "1054                     yyyy cv spamassassin taint org   \n",
       "1744   yyyy localhost netnoteinc com   recipient net...   \n",
       "1749                         picone linux midrange com    \n",
       "1461   yyyy localhost netnoteinc com   ameritex netway    \n",
       "1727                                     yyyyac idt net   \n",
       "596    yyyy localhost netnoteinc com  fork spamassas...   \n",
       "\n",
       "                                                Subject  \\\n",
       "1249           hi joseph  personal information wanted p   \n",
       "1054                          adv  put resume back work   \n",
       "1744     telecom consolidation begins accelerate  owwra   \n",
       "1749   enlargement breakthrough                     ...   \n",
       "1461                                 build great future   \n",
       "1727      adv harvest lots target email address quickly   \n",
       "596                                    greetings calif    \n",
       "\n",
       "                                              save_urls  \\\n",
       "1249                                                NaN   \n",
       "1054  http www resumevalet com http www resumevalet com   \n",
       "1744                                                NaN   \n",
       "1749                                                NaN   \n",
       "1461  http www page4life org users 69chevelle  http ...   \n",
       "1727  http www wldinfo com download email ese zip ht...   \n",
       "596                 http xent com mailman listinfo fork   \n",
       "\n",
       "              save_emailsadd                     first_sent  \\\n",
       "1249  name domain com please                       request    \n",
       "1054                     NaN                dear candidate    \n",
       "1744                     NaN                          igtt    \n",
       "1749                     NaN       recent survey conducted    \n",
       "1461                     NaN                   easy return    \n",
       "1727                     NaN                          want    \n",
       "596                      NaN  want make million bucks year    \n",
       "\n",
       "                                        second_sent  \\\n",
       "1249                          free loan evaluation    \n",
       "1054  recently came across posting resume internet    \n",
       "1744                                           vol    \n",
       "1749                                         durex    \n",
       "1461                   learn receive monthly check    \n",
       "1727                      harvest lot target email    \n",
       "596                          probably going happen    \n",
       "\n",
       "                                            penult_sent  \\\n",
       "1249                    allow hours email address remo    \n",
       "1054                                         copyright    \n",
       "1744                                                NaN   \n",
       "1749  olutionary pill developed world famous pharmac...   \n",
       "1461                                               opt    \n",
       "1727          line adv provide notification commercial    \n",
       "596                      personally speak within hours    \n",
       "\n",
       "                                              last_sent  outcome  \n",
       "1249                                               ved         1  \n",
       "1054                  professionals online network inc         1  \n",
       "1744                   ikxrkobewgotpevemtbokjgssytdinm         1  \n",
       "1749            ncrease size enter detailsto come open         1  \n",
       "1461                             please go opt website         1  \n",
       "1727                   advertisement persons 18yrs old         1  \n",
       "596   removed mailing list please type remove subjec...        1  "
      ]
     },
     "execution_count": 18,
     "metadata": {},
     "output_type": "execute_result"
    }
   ],
   "source": [
    "# sample some spam examples, and see what minimal changes to those spam emails would have resulted in non-spam predictions\n",
    "ref_inds = df[df['outcome']==1].sample(n=7, random_state=42).index\n",
    "refs = df_for_classification.loc[ref_inds]\n",
    "refs_present = df.loc[ref_inds]\n",
    "refs_present"
   ]
  },
  {
   "cell_type": "code",
   "execution_count": 19,
   "metadata": {},
   "outputs": [
    {
     "name": "stdout",
     "output_type": "stream",
     "text": [
      "----------------------\n",
      "gaming option no.:  0\n",
      "----------------------\n"
     ]
    },
    {
     "data": {
      "text/html": [
       "<div>\n",
       "<style scoped>\n",
       "    .dataframe tbody tr th:only-of-type {\n",
       "        vertical-align: middle;\n",
       "    }\n",
       "\n",
       "    .dataframe tbody tr th {\n",
       "        vertical-align: top;\n",
       "    }\n",
       "\n",
       "    .dataframe thead th {\n",
       "        text-align: right;\n",
       "    }\n",
       "</style>\n",
       "<table border=\"1\" class=\"dataframe\">\n",
       "  <thead>\n",
       "    <tr style=\"text-align: right;\">\n",
       "      <th></th>\n",
       "      <th>From</th>\n",
       "      <th>To</th>\n",
       "    </tr>\n",
       "  </thead>\n",
       "  <tbody>\n",
       "    <tr>\n",
       "      <th>3528</th>\n",
       "      <td>crispin cowan  crispin wirex com</td>\n",
       "      <td>yyyy localhost example com  mailing list secprog securityfocus com  moderator secprog securityfocus com  scottm crystal ncc cc nm us</td>\n",
       "    </tr>\n",
       "  </tbody>\n",
       "</table>\n",
       "</div>"
      ],
      "text/plain": [
       "                                    From  \\\n",
       "3528   crispin cowan  crispin wirex com    \n",
       "\n",
       "                                                                                                                                         To  \n",
       "3528   yyyy localhost example com  mailing list secprog securityfocus com  moderator secprog securityfocus com  scottm crystal ncc cc nm us  "
      ]
     },
     "metadata": {},
     "output_type": "display_data"
    },
    {
     "name": "stdout",
     "output_type": "stream",
     "text": [
      "----------------------\n",
      "gaming option no.:  1\n",
      "----------------------\n"
     ]
    },
    {
     "data": {
      "text/html": [
       "<div>\n",
       "<style scoped>\n",
       "    .dataframe tbody tr th:only-of-type {\n",
       "        vertical-align: middle;\n",
       "    }\n",
       "\n",
       "    .dataframe tbody tr th {\n",
       "        vertical-align: top;\n",
       "    }\n",
       "\n",
       "    .dataframe thead th {\n",
       "        text-align: right;\n",
       "    }\n",
       "</style>\n",
       "<table border=\"1\" class=\"dataframe\">\n",
       "  <thead>\n",
       "    <tr style=\"text-align: right;\">\n",
       "      <th></th>\n",
       "      <th>From</th>\n",
       "      <th>first_sent</th>\n",
       "    </tr>\n",
       "  </thead>\n",
       "  <tbody>\n",
       "    <tr>\n",
       "      <th>3528</th>\n",
       "      <td>crispin cowan  crispin wirex com</td>\n",
       "      <td>scott mackenzie wrote</td>\n",
       "    </tr>\n",
       "  </tbody>\n",
       "</table>\n",
       "</div>"
      ],
      "text/plain": [
       "                                    From              first_sent\n",
       "3528   crispin cowan  crispin wirex com   scott mackenzie wrote "
      ]
     },
     "metadata": {},
     "output_type": "display_data"
    },
    {
     "name": "stdout",
     "output_type": "stream",
     "text": [
      "----------------------\n",
      "gaming option no.:  2\n",
      "----------------------\n"
     ]
    },
    {
     "data": {
      "text/html": [
       "<div>\n",
       "<style scoped>\n",
       "    .dataframe tbody tr th:only-of-type {\n",
       "        vertical-align: middle;\n",
       "    }\n",
       "\n",
       "    .dataframe tbody tr th {\n",
       "        vertical-align: top;\n",
       "    }\n",
       "\n",
       "    .dataframe thead th {\n",
       "        text-align: right;\n",
       "    }\n",
       "</style>\n",
       "<table border=\"1\" class=\"dataframe\">\n",
       "  <thead>\n",
       "    <tr style=\"text-align: right;\">\n",
       "      <th></th>\n",
       "      <th>From</th>\n",
       "      <th>first_sent</th>\n",
       "    </tr>\n",
       "  </thead>\n",
       "  <tbody>\n",
       "    <tr>\n",
       "      <th>3067</th>\n",
       "      <td>tim one comcast net  tim peters</td>\n",
       "      <td>tim</td>\n",
       "    </tr>\n",
       "  </tbody>\n",
       "</table>\n",
       "</div>"
      ],
      "text/plain": [
       "                                   From first_sent\n",
       "3067   tim one comcast net  tim peters        tim "
      ]
     },
     "metadata": {},
     "output_type": "display_data"
    },
    {
     "name": "stdout",
     "output_type": "stream",
     "text": [
      "----------------------\n",
      "gaming option no.:  3\n",
      "----------------------\n"
     ]
    },
    {
     "data": {
      "text/html": [
       "<div>\n",
       "<style scoped>\n",
       "    .dataframe tbody tr th:only-of-type {\n",
       "        vertical-align: middle;\n",
       "    }\n",
       "\n",
       "    .dataframe tbody tr th {\n",
       "        vertical-align: top;\n",
       "    }\n",
       "\n",
       "    .dataframe thead th {\n",
       "        text-align: right;\n",
       "    }\n",
       "</style>\n",
       "<table border=\"1\" class=\"dataframe\">\n",
       "  <thead>\n",
       "    <tr style=\"text-align: right;\">\n",
       "      <th></th>\n",
       "      <th>From</th>\n",
       "      <th>To</th>\n",
       "    </tr>\n",
       "  </thead>\n",
       "  <tbody>\n",
       "    <tr>\n",
       "      <th>2248</th>\n",
       "      <td>eugen leitl  eugen leitl org</td>\n",
       "      <td>yyyy localhost example com  fork example com  tom  tomwhore slack net    pine bso 4 44 0209181012190 26668 100000 crank slack net   fork admin xent com</td>\n",
       "    </tr>\n",
       "  </tbody>\n",
       "</table>\n",
       "</div>"
      ],
      "text/plain": [
       "                                From  \\\n",
       "2248   eugen leitl  eugen leitl org    \n",
       "\n",
       "                                                                                                                                                            To  \n",
       "2248   yyyy localhost example com  fork example com  tom  tomwhore slack net    pine bso 4 44 0209181012190 26668 100000 crank slack net   fork admin xent com  "
      ]
     },
     "metadata": {},
     "output_type": "display_data"
    },
    {
     "name": "stdout",
     "output_type": "stream",
     "text": [
      "----------------------\n",
      "gaming option no.:  4\n",
      "----------------------\n"
     ]
    },
    {
     "data": {
      "text/html": [
       "<div>\n",
       "<style scoped>\n",
       "    .dataframe tbody tr th:only-of-type {\n",
       "        vertical-align: middle;\n",
       "    }\n",
       "\n",
       "    .dataframe tbody tr th {\n",
       "        vertical-align: top;\n",
       "    }\n",
       "\n",
       "    .dataframe thead th {\n",
       "        text-align: right;\n",
       "    }\n",
       "</style>\n",
       "<table border=\"1\" class=\"dataframe\">\n",
       "  <thead>\n",
       "    <tr style=\"text-align: right;\">\n",
       "      <th></th>\n",
       "      <th>From</th>\n",
       "      <th>To</th>\n",
       "    </tr>\n",
       "  </thead>\n",
       "  <tbody>\n",
       "    <tr>\n",
       "      <th>1978</th>\n",
       "      <td>matthias saou  matthias rpmforge net</td>\n",
       "      <td>yyyy localhost example com  rpm zzzlist freshrpms net   3d89aa17 4090005 leenx co za   rpm zzzlist admin freshrpms net  rpm zzzlist freshrpms net</td>\n",
       "    </tr>\n",
       "  </tbody>\n",
       "</table>\n",
       "</div>"
      ],
      "text/plain": [
       "                                        From  \\\n",
       "1978   matthias saou  matthias rpmforge net    \n",
       "\n",
       "                                                                                                                                                      To  \n",
       "1978   yyyy localhost example com  rpm zzzlist freshrpms net   3d89aa17 4090005 leenx co za   rpm zzzlist admin freshrpms net  rpm zzzlist freshrpms net  "
      ]
     },
     "metadata": {},
     "output_type": "display_data"
    }
   ],
   "source": [
    "model_weakness_spam.model_gaming(clf, refs, df_for_classification, num_features, num_inp=20, df_flattened=df_for_classification_flat, df_raw=df)"
   ]
  }
 ],
 "metadata": {
  "kernelspec": {
   "display_name": "Python 3",
   "language": "python",
   "name": "python3"
  },
  "language_info": {
   "codemirror_mode": {
    "name": "ipython",
    "version": 3
   },
   "file_extension": ".py",
   "mimetype": "text/x-python",
   "name": "python",
   "nbconvert_exporter": "python",
   "pygments_lexer": "ipython3",
   "version": "3.8.3"
  }
 },
 "nbformat": 4,
 "nbformat_minor": 4
}
